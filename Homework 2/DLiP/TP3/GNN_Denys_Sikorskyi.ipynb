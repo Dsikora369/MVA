{
  "cells": [
    {
      "cell_type": "markdown",
      "metadata": {
        "id": "nlCNZsWlOSfP"
      },
      "source": [
        "# Practical Session on Graph Neural Networks\n",
        "\n",
        "**by Matthieu Nastorg**"
      ]
    },
    {
      "cell_type": "markdown",
      "metadata": {
        "id": "p0RMEfCaEehI"
      },
      "source": [
        "## **PART 1 : CODING** (8/20)"
      ]
    },
    {
      "cell_type": "markdown",
      "metadata": {
        "id": "v5Lp4PasOby4"
      },
      "source": [
        "### Install Pytorch Geometric\n",
        "\n",
        "To handle graph data, we use the library Pytorch Geometric : https://pytorch-geometric.readthedocs.io/en/latest/\n",
        "\n",
        "*   If you use _Google Colab_, simply run the following cell to install Pytorch Geometric (**advised**).\n",
        "*   If you plan using your _own environment_, follow the documentation to install Pytorch Geometric : https://pytorch-geometric.readthedocs.io/en/latest/install/installation.html and skip the following cell."
      ]
    },
    {
      "cell_type": "code",
      "execution_count": null,
      "metadata": {
        "colab": {
          "base_uri": "https://localhost:8080/"
        },
        "id": "buW3eZmrj1N2",
        "outputId": "4a0ca45d-e536-4ce3-8260-44e51358cd1d"
      },
      "outputs": [
        {
          "output_type": "stream",
          "name": "stdout",
          "text": [
            "Looking in indexes: https://pypi.org/simple, https://us-python.pkg.dev/colab-wheels/public/simple/\n",
            "Looking in links: https://pytorch-geometric.com/whl/torch-1.13.1+cu116.html\n",
            "Requirement already satisfied: torch-scatter in /usr/local/lib/python3.9/dist-packages (2.1.0+pt113cu116)\n",
            "Looking in indexes: https://pypi.org/simple, https://us-python.pkg.dev/colab-wheels/public/simple/\n",
            "Looking in links: https://pytorch-geometric.com/whl/torch-1.13.1+cu116.html\n",
            "Requirement already satisfied: torch-sparse in /usr/local/lib/python3.9/dist-packages (0.6.16+pt113cu116)\n",
            "Requirement already satisfied: scipy in /usr/local/lib/python3.9/dist-packages (from torch-sparse) (1.10.1)\n",
            "Requirement already satisfied: numpy<1.27.0,>=1.19.5 in /usr/local/lib/python3.9/dist-packages (from scipy->torch-sparse) (1.22.4)\n",
            "Looking in indexes: https://pypi.org/simple, https://us-python.pkg.dev/colab-wheels/public/simple/\n",
            "Looking in links: https://pytorch-geometric.com/whl/torch-1.13.1+cu116.html\n",
            "Requirement already satisfied: torch-cluster in /usr/local/lib/python3.9/dist-packages (1.6.0+pt113cu116)\n",
            "Requirement already satisfied: scipy in /usr/local/lib/python3.9/dist-packages (from torch-cluster) (1.10.1)\n",
            "Requirement already satisfied: numpy<1.27.0,>=1.19.5 in /usr/local/lib/python3.9/dist-packages (from scipy->torch-cluster) (1.22.4)\n",
            "Looking in indexes: https://pypi.org/simple, https://us-python.pkg.dev/colab-wheels/public/simple/\n",
            "Looking in links: https://pytorch-geometric.com/whl/torch-1.13.1+cu116.html\n",
            "Requirement already satisfied: torch-spline-conv in /usr/local/lib/python3.9/dist-packages (1.2.1+pt113cu116)\n",
            "Looking in indexes: https://pypi.org/simple, https://us-python.pkg.dev/colab-wheels/public/simple/\n",
            "Requirement already satisfied: torch-geometric in /usr/local/lib/python3.9/dist-packages (2.2.0)\n",
            "Requirement already satisfied: numpy in /usr/local/lib/python3.9/dist-packages (from torch-geometric) (1.22.4)\n",
            "Requirement already satisfied: pyparsing in /usr/local/lib/python3.9/dist-packages (from torch-geometric) (3.0.9)\n",
            "Requirement already satisfied: requests in /usr/local/lib/python3.9/dist-packages (from torch-geometric) (2.25.1)\n",
            "Requirement already satisfied: scikit-learn in /usr/local/lib/python3.9/dist-packages (from torch-geometric) (1.2.2)\n",
            "Requirement already satisfied: jinja2 in /usr/local/lib/python3.9/dist-packages (from torch-geometric) (3.1.2)\n",
            "Requirement already satisfied: tqdm in /usr/local/lib/python3.9/dist-packages (from torch-geometric) (4.65.0)\n",
            "Requirement already satisfied: scipy in /usr/local/lib/python3.9/dist-packages (from torch-geometric) (1.10.1)\n",
            "Requirement already satisfied: psutil>=5.8.0 in /usr/local/lib/python3.9/dist-packages (from torch-geometric) (5.9.4)\n",
            "Requirement already satisfied: MarkupSafe>=2.0 in /usr/local/lib/python3.9/dist-packages (from jinja2->torch-geometric) (2.1.2)\n",
            "Requirement already satisfied: certifi>=2017.4.17 in /usr/local/lib/python3.9/dist-packages (from requests->torch-geometric) (2022.12.7)\n",
            "Requirement already satisfied: chardet<5,>=3.0.2 in /usr/local/lib/python3.9/dist-packages (from requests->torch-geometric) (4.0.0)\n",
            "Requirement already satisfied: urllib3<1.27,>=1.21.1 in /usr/local/lib/python3.9/dist-packages (from requests->torch-geometric) (1.26.15)\n",
            "Requirement already satisfied: idna<3,>=2.5 in /usr/local/lib/python3.9/dist-packages (from requests->torch-geometric) (2.10)\n",
            "Requirement already satisfied: joblib>=1.1.1 in /usr/local/lib/python3.9/dist-packages (from scikit-learn->torch-geometric) (1.1.1)\n",
            "Requirement already satisfied: threadpoolctl>=2.0.0 in /usr/local/lib/python3.9/dist-packages (from scikit-learn->torch-geometric) (3.1.0)\n"
          ]
        }
      ],
      "source": [
        "########## INSTALL TORCH GEOMETRIC ##################\n",
        "# https://pytorch-geometric.readthedocs.io/en/latest/ \n",
        "#####################################################\n",
        "import torch \n",
        "\n",
        "def format_pytorch_version(version):\n",
        "  return version.split('+')[0]\n",
        "\n",
        "TORCH_version = torch.__version__\n",
        "TORCH = format_pytorch_version(TORCH_version)\n",
        "\n",
        "def format_cuda_version(version):\n",
        "  return 'cu' + version.replace('.', '')\n",
        "\n",
        "CUDA_version = torch.version.cuda\n",
        "CUDA = format_cuda_version(CUDA_version)\n",
        "\n",
        "!pip install torch-scatter     -f https://pytorch-geometric.com/whl/torch-{TORCH}+{CUDA}.html\n",
        "!pip install torch-sparse      -f https://pytorch-geometric.com/whl/torch-{TORCH}+{CUDA}.html\n",
        "!pip install torch-cluster     -f https://pytorch-geometric.com/whl/torch-{TORCH}+{CUDA}.html\n",
        "!pip install torch-spline-conv -f https://pytorch-geometric.com/whl/torch-{TORCH}+{CUDA}.html\n",
        "!pip install torch-geometric"
      ]
    },
    {
      "cell_type": "markdown",
      "metadata": {
        "id": "04JPKXjDclTj"
      },
      "source": [
        "### Import required packages\n",
        "\n",
        "Run the following cell to import all required packages. This cell **must not** be modified.\n",
        "\n",
        "To significantly accelerate your training, it is advised to use GPU. Using Google Colab, you need to activate it : \n",
        "\n",
        "*   Edit --> Notebook Setting --> Hardware accelerator --> GPU"
      ]
    },
    {
      "cell_type": "code",
      "execution_count": null,
      "metadata": {
        "id": "qXGDmBMYgA_x"
      },
      "outputs": [],
      "source": [
        "#####################################################\n",
        "################## PACKAGES #########################\n",
        "#####################################################\n",
        "import numpy as np\n",
        "import matplotlib.pyplot as plt\n",
        "\n",
        "import torch.nn as nn\n",
        "import torch_geometric.nn as graphnn\n",
        "from sklearn.metrics import f1_score\n",
        "from torch_geometric.datasets import PPI\n",
        "from torch_geometric.loader import DataLoader"
      ]
    },
    {
      "cell_type": "markdown",
      "metadata": {
        "id": "3UvCNG8FgdS-"
      },
      "source": [
        "### Dataset\n",
        "\n",
        "We use the Protein-Protein Interaction (PPI) network dataset which includes:\n",
        "- 20 graphs for training \n",
        "- 2 graphs for validation\n",
        "- 2 graphs for testing\n",
        "\n",
        "One graph of the PPI dataset has on average 2372 nodes. Each node:\n",
        "- 50 features : positional gene sets / motif gene / immunological signatures ...\n",
        "- 121 (binary) labels : gene ontology sets (way to classify gene products like proteins).\n",
        "\n",
        "**This problem aims to predict, for a given PPI graph, the correct node's labels**.\n",
        "\n",
        "**It is a node (multi-level) classification task** (trained using supervised learning). \n",
        "\n",
        "For your curiosity, more details information on the dataset and some applications:\n",
        "- https://cs.stanford.edu/~jure/pubs/pathways-psb18.pdf\n",
        "- https://arxiv.org/abs/1707.04638\n",
        "\n",
        "To understand how a graph data is implemented in Pytorch Geometric, refer to : https://pytorch-geometric.readthedocs.io/en/latest/get_started/introduction.html\n"
      ]
    },
    {
      "cell_type": "code",
      "execution_count": null,
      "metadata": {
        "colab": {
          "base_uri": "https://localhost:8080/"
        },
        "id": "IwdNhvzVNkZB",
        "outputId": "b562351e-ee76-4413-d8fe-dce56bdda7b6"
      },
      "outputs": [
        {
          "output_type": "stream",
          "name": "stdout",
          "text": [
            "Number of samples in the train dataset:  20\n",
            "Number of samples in the val dataset:  2\n",
            "Number of samples in the test dataset:  2\n",
            "Output of one sample from the train dataset:  Data(x=[1767, 50], edge_index=[2, 32318], y=[1767, 121])\n",
            "Edge_index :\n",
            "tensor([[   0,    0,    0,  ..., 1744, 1745, 1749],\n",
            "        [ 372, 1101,  766,  ..., 1745, 1744, 1739]])\n",
            "Number of features per node:  50\n",
            "Number of classes per node:  121\n"
          ]
        }
      ],
      "source": [
        "### LOAD DATASETS\n",
        "\n",
        "BATCH_SIZE = 2 \n",
        "\n",
        "# Train Dataset\n",
        "train_dataset = PPI(root=\"\", split='train')\n",
        "train_dataloader = DataLoader(train_dataset, batch_size=BATCH_SIZE)\n",
        "# Val Dataset\n",
        "val_dataset = PPI(root=\"\", split='val')\n",
        "val_dataloader = DataLoader(val_dataset, batch_size=BATCH_SIZE)\n",
        "# Test Dataset\n",
        "test_dataset = PPI(root=\"\", split='test')\n",
        "test_dataloader = DataLoader(test_dataset, batch_size=BATCH_SIZE)\n",
        "\n",
        "# Number of features and classes\n",
        "n_features, n_classes = train_dataset[0].x.shape[1], train_dataset[0].y.shape[1]\n",
        "\n",
        "print(\"Number of samples in the train dataset: \", len(train_dataset))\n",
        "print(\"Number of samples in the val dataset: \", len(test_dataset))\n",
        "print(\"Number of samples in the test dataset: \", len(test_dataset))\n",
        "print(\"Output of one sample from the train dataset: \", train_dataset[0])\n",
        "print(\"Edge_index :\")\n",
        "print(train_dataset[0].edge_index)\n",
        "print(\"Number of features per node: \", n_features)\n",
        "print(\"Number of classes per node: \", n_classes)"
      ]
    },
    {
      "cell_type": "markdown",
      "metadata": {
        "id": "hiCcn9qeO6Nm"
      },
      "source": [
        "### Define a basic Model"
      ]
    },
    {
      "cell_type": "markdown",
      "metadata": {
        "id": "8RjzEiJ-eVot"
      },
      "source": [
        "Here we define a very simple Graph Neural Network model which will be used as our baseline. This model consists of three graph convolutional layers (from https://arxiv.org/pdf/1609.02907.pdf). The first two layers computes 256 features, followed by an ELU activation function. The last layer is used for (multi-level) classification task, computing 121 features."
      ]
    },
    {
      "cell_type": "code",
      "execution_count": null,
      "metadata": {
        "id": "2Km-GN1aMpd_"
      },
      "outputs": [],
      "source": [
        "#####################################################\n",
        "################## MODEL ############################\n",
        "#####################################################\n",
        "class BasicGraphModel(nn.Module):\n",
        "\n",
        "    def __init__(self, input_size, hidden_size, output_size):\n",
        "        super().__init__()\n",
        "\n",
        "        self.graphconv1 = graphnn.GCNConv(input_size, hidden_size)\n",
        "        self.graphconv2 = graphnn.GCNConv(hidden_size, hidden_size)\n",
        "        self.graphconv3 = graphnn.GCNConv(hidden_size, output_size)\n",
        "\n",
        "        self.elu = nn.ELU()\n",
        "\n",
        "    def forward(self, x, edge_index):\n",
        "\n",
        "        x = self.graphconv1(x, edge_index)\n",
        "        x = self.elu(x)\n",
        "        x = self.graphconv2(x, edge_index)\n",
        "        x = self.elu(x)\n",
        "        x = self.graphconv3(x, edge_index)\n",
        "\n",
        "        return x"
      ]
    },
    {
      "cell_type": "markdown",
      "metadata": {
        "id": "6ekk0TrOktOB"
      },
      "source": [
        "Next we construct the function to train the model."
      ]
    },
    {
      "cell_type": "code",
      "execution_count": null,
      "metadata": {
        "id": "m4lneoadMxqy"
      },
      "outputs": [],
      "source": [
        "#####################################################\n",
        "############## TRAIN FUNCTION #######################\n",
        "#####################################################\n",
        "def train(model, loss_fcn, device, optimizer, max_epochs, train_dataloader, val_dataloader):\n",
        "\n",
        "    epoch_list = []\n",
        "    scores_list = []\n",
        "\n",
        "    # loop over epochs\n",
        "    for epoch in range(max_epochs):\n",
        "        model.train()\n",
        "        losses = []\n",
        "        # loop over batches\n",
        "        for i, train_batch in enumerate(train_dataloader):\n",
        "            optimizer.zero_grad()\n",
        "            train_batch_device = train_batch.to(device)\n",
        "            # logits is the output of the model\n",
        "            logits = model(train_batch_device.x, train_batch_device.edge_index)\n",
        "            # compute the loss\n",
        "            loss = loss_fcn(logits, train_batch_device.y)\n",
        "            # optimizer step\n",
        "            loss.backward()\n",
        "            optimizer.step()\n",
        "            losses.append(loss.item())\n",
        "        loss_data = np.array(losses).mean()\n",
        "        print(\"Epoch {:05d} | Loss: {:.4f}\".format(epoch + 1, loss_data))\n",
        "\n",
        "        if epoch % 5 == 0:\n",
        "            # evaluate the model on the validation set\n",
        "            # computes the f1-score (see next function)\n",
        "            score = evaluate(model, loss_fcn, device, val_dataloader)\n",
        "            print(\"F1-Score: {:.4f}\".format(score))\n",
        "            scores_list.append(score)\n",
        "            epoch_list.append(epoch)\n",
        "\n",
        "    return epoch_list, scores_list"
      ]
    },
    {
      "cell_type": "markdown",
      "metadata": {
        "id": "PTd9OqaelLni"
      },
      "source": [
        "Next function is designed to evaluate the performance of the model, computing the F1-Score"
      ]
    },
    {
      "cell_type": "code",
      "execution_count": null,
      "metadata": {
        "id": "PajZzg5zM7V1"
      },
      "outputs": [],
      "source": [
        "#####################################################\n",
        "############### TEST FUNCTION #######################\n",
        "#####################################################\n",
        "def evaluate(model, loss_fcn, device, dataloader):\n",
        "\n",
        "    score_list_batch = []\n",
        "\n",
        "    model.eval()\n",
        "    for i, batch in enumerate(dataloader):\n",
        "        batch = batch.to(device)\n",
        "        output = model(batch.x, batch.edge_index)\n",
        "        loss_test = loss_fcn(output, batch.y)\n",
        "        predict = np.where(output.detach().cpu().numpy() >= 0, 1, 0)\n",
        "        score = f1_score(batch.y.cpu().numpy(), predict, average=\"micro\")\n",
        "        score_list_batch.append(score)\n",
        "\n",
        "    return np.array(score_list_batch).mean()"
      ]
    },
    {
      "cell_type": "markdown",
      "metadata": {
        "id": "EilgopwMlpsu"
      },
      "source": [
        "Let's train this model !"
      ]
    },
    {
      "cell_type": "code",
      "execution_count": null,
      "metadata": {
        "colab": {
          "base_uri": "https://localhost:8080/"
        },
        "id": "Xkqo7e0gNACE",
        "outputId": "912a70ab-0183-48af-8cfe-cda6e5228258"
      },
      "outputs": [
        {
          "output_type": "stream",
          "name": "stdout",
          "text": [
            "\n",
            "Device:  cuda\n",
            "Epoch 00001 | Loss: 0.6381\n",
            "F1-Score: 0.4511\n",
            "Epoch 00002 | Loss: 0.5829\n",
            "Epoch 00003 | Loss: 0.5634\n",
            "Epoch 00004 | Loss: 0.5562\n",
            "Epoch 00005 | Loss: 0.5519\n",
            "Epoch 00006 | Loss: 0.5463\n",
            "F1-Score: 0.5000\n",
            "Epoch 00007 | Loss: 0.5419\n",
            "Epoch 00008 | Loss: 0.5378\n",
            "Epoch 00009 | Loss: 0.5341\n",
            "Epoch 00010 | Loss: 0.5313\n",
            "Epoch 00011 | Loss: 0.5288\n",
            "F1-Score: 0.5245\n",
            "Epoch 00012 | Loss: 0.5261\n",
            "Epoch 00013 | Loss: 0.5236\n",
            "Epoch 00014 | Loss: 0.5212\n",
            "Epoch 00015 | Loss: 0.5189\n",
            "Epoch 00016 | Loss: 0.5168\n",
            "F1-Score: 0.5386\n",
            "Epoch 00017 | Loss: 0.5148\n",
            "Epoch 00018 | Loss: 0.5129\n",
            "Epoch 00019 | Loss: 0.5110\n",
            "Epoch 00020 | Loss: 0.5090\n",
            "Epoch 00021 | Loss: 0.5071\n",
            "F1-Score: 0.5066\n",
            "Epoch 00022 | Loss: 0.5043\n",
            "Epoch 00023 | Loss: 0.5020\n",
            "Epoch 00024 | Loss: 0.5005\n",
            "Epoch 00025 | Loss: 0.4983\n",
            "Epoch 00026 | Loss: 0.4967\n",
            "F1-Score: 0.5406\n",
            "Epoch 00027 | Loss: 0.4947\n",
            "Epoch 00028 | Loss: 0.4928\n",
            "Epoch 00029 | Loss: 0.4907\n",
            "Epoch 00030 | Loss: 0.4889\n",
            "Epoch 00031 | Loss: 0.4874\n",
            "F1-Score: 0.5521\n",
            "Epoch 00032 | Loss: 0.4859\n",
            "Epoch 00033 | Loss: 0.4846\n",
            "Epoch 00034 | Loss: 0.4835\n",
            "Epoch 00035 | Loss: 0.4820\n",
            "Epoch 00036 | Loss: 0.4806\n",
            "F1-Score: 0.5601\n",
            "Epoch 00037 | Loss: 0.4800\n",
            "Epoch 00038 | Loss: 0.4773\n",
            "Epoch 00039 | Loss: 0.4761\n",
            "Epoch 00040 | Loss: 0.4744\n",
            "Epoch 00041 | Loss: 0.4725\n",
            "F1-Score: 0.5634\n",
            "Epoch 00042 | Loss: 0.4708\n",
            "Epoch 00043 | Loss: 0.4695\n",
            "Epoch 00044 | Loss: 0.4681\n",
            "Epoch 00045 | Loss: 0.4671\n",
            "Epoch 00046 | Loss: 0.4661\n",
            "F1-Score: 0.5790\n",
            "Epoch 00047 | Loss: 0.4657\n",
            "Epoch 00048 | Loss: 0.4646\n",
            "Epoch 00049 | Loss: 0.4649\n",
            "Epoch 00050 | Loss: 0.4623\n",
            "Epoch 00051 | Loss: 0.4614\n",
            "F1-Score: 0.5776\n",
            "Epoch 00052 | Loss: 0.4598\n",
            "Epoch 00053 | Loss: 0.4590\n",
            "Epoch 00054 | Loss: 0.4573\n",
            "Epoch 00055 | Loss: 0.4563\n",
            "Epoch 00056 | Loss: 0.4547\n",
            "F1-Score: 0.5933\n",
            "Epoch 00057 | Loss: 0.4545\n",
            "Epoch 00058 | Loss: 0.4539\n",
            "Epoch 00059 | Loss: 0.4528\n",
            "Epoch 00060 | Loss: 0.4518\n",
            "Epoch 00061 | Loss: 0.4512\n",
            "F1-Score: 0.6036\n",
            "Epoch 00062 | Loss: 0.4504\n",
            "Epoch 00063 | Loss: 0.4499\n",
            "Epoch 00064 | Loss: 0.4496\n",
            "Epoch 00065 | Loss: 0.4498\n",
            "Epoch 00066 | Loss: 0.4495\n",
            "F1-Score: 0.5728\n",
            "Epoch 00067 | Loss: 0.4487\n",
            "Epoch 00068 | Loss: 0.4480\n",
            "Epoch 00069 | Loss: 0.4456\n",
            "Epoch 00070 | Loss: 0.4452\n",
            "Epoch 00071 | Loss: 0.4447\n",
            "F1-Score: 0.5848\n",
            "Epoch 00072 | Loss: 0.4433\n",
            "Epoch 00073 | Loss: 0.4429\n",
            "Epoch 00074 | Loss: 0.4423\n",
            "Epoch 00075 | Loss: 0.4420\n",
            "Epoch 00076 | Loss: 0.4413\n",
            "F1-Score: 0.5947\n",
            "Epoch 00077 | Loss: 0.4405\n",
            "Epoch 00078 | Loss: 0.4404\n",
            "Epoch 00079 | Loss: 0.4411\n",
            "Epoch 00080 | Loss: 0.4408\n",
            "Epoch 00081 | Loss: 0.4397\n",
            "F1-Score: 0.5862\n",
            "Epoch 00082 | Loss: 0.4412\n",
            "Epoch 00083 | Loss: 0.4426\n",
            "Epoch 00084 | Loss: 0.4430\n",
            "Epoch 00085 | Loss: 0.4405\n",
            "Epoch 00086 | Loss: 0.4407\n",
            "F1-Score: 0.5731\n",
            "Epoch 00087 | Loss: 0.4389\n",
            "Epoch 00088 | Loss: 0.4380\n",
            "Epoch 00089 | Loss: 0.4361\n",
            "Epoch 00090 | Loss: 0.4359\n",
            "Epoch 00091 | Loss: 0.4359\n",
            "F1-Score: 0.5985\n",
            "Epoch 00092 | Loss: 0.4367\n",
            "Epoch 00093 | Loss: 0.4375\n",
            "Epoch 00094 | Loss: 0.4347\n",
            "Epoch 00095 | Loss: 0.4334\n",
            "Epoch 00096 | Loss: 0.4333\n",
            "F1-Score: 0.6117\n",
            "Epoch 00097 | Loss: 0.4324\n",
            "Epoch 00098 | Loss: 0.4314\n",
            "Epoch 00099 | Loss: 0.4314\n",
            "Epoch 00100 | Loss: 0.4307\n",
            "Epoch 00101 | Loss: 0.4300\n",
            "F1-Score: 0.5779\n",
            "Epoch 00102 | Loss: 0.4294\n",
            "Epoch 00103 | Loss: 0.4302\n",
            "Epoch 00104 | Loss: 0.4300\n",
            "Epoch 00105 | Loss: 0.4297\n",
            "Epoch 00106 | Loss: 0.4288\n",
            "F1-Score: 0.6269\n",
            "Epoch 00107 | Loss: 0.4272\n",
            "Epoch 00108 | Loss: 0.4263\n",
            "Epoch 00109 | Loss: 0.4272\n",
            "Epoch 00110 | Loss: 0.4295\n",
            "Epoch 00111 | Loss: 0.4298\n",
            "F1-Score: 0.5666\n",
            "Epoch 00112 | Loss: 0.4301\n",
            "Epoch 00113 | Loss: 0.4285\n",
            "Epoch 00114 | Loss: 0.4287\n",
            "Epoch 00115 | Loss: 0.4299\n",
            "Epoch 00116 | Loss: 0.4286\n",
            "F1-Score: 0.6324\n",
            "Epoch 00117 | Loss: 0.4270\n",
            "Epoch 00118 | Loss: 0.4260\n",
            "Epoch 00119 | Loss: 0.4253\n",
            "Epoch 00120 | Loss: 0.4228\n",
            "Epoch 00121 | Loss: 0.4223\n",
            "F1-Score: 0.6153\n",
            "Epoch 00122 | Loss: 0.4228\n",
            "Epoch 00123 | Loss: 0.4222\n",
            "Epoch 00124 | Loss: 0.4225\n",
            "Epoch 00125 | Loss: 0.4224\n",
            "Epoch 00126 | Loss: 0.4242\n",
            "F1-Score: 0.5692\n",
            "Epoch 00127 | Loss: 0.4243\n",
            "Epoch 00128 | Loss: 0.4241\n",
            "Epoch 00129 | Loss: 0.4228\n",
            "Epoch 00130 | Loss: 0.4206\n",
            "Epoch 00131 | Loss: 0.4197\n",
            "F1-Score: 0.6242\n",
            "Epoch 00132 | Loss: 0.4177\n",
            "Epoch 00133 | Loss: 0.4168\n",
            "Epoch 00134 | Loss: 0.4163\n",
            "Epoch 00135 | Loss: 0.4171\n",
            "Epoch 00136 | Loss: 0.4161\n",
            "F1-Score: 0.5999\n",
            "Epoch 00137 | Loss: 0.4163\n",
            "Epoch 00138 | Loss: 0.4170\n",
            "Epoch 00139 | Loss: 0.4174\n",
            "Epoch 00140 | Loss: 0.4193\n",
            "Epoch 00141 | Loss: 0.4182\n",
            "F1-Score: 0.6288\n",
            "Epoch 00142 | Loss: 0.4197\n",
            "Epoch 00143 | Loss: 0.4232\n",
            "Epoch 00144 | Loss: 0.4203\n",
            "Epoch 00145 | Loss: 0.4184\n",
            "Epoch 00146 | Loss: 0.4177\n",
            "F1-Score: 0.6289\n",
            "Epoch 00147 | Loss: 0.4180\n",
            "Epoch 00148 | Loss: 0.4161\n",
            "Epoch 00149 | Loss: 0.4160\n",
            "Epoch 00150 | Loss: 0.4152\n",
            "Epoch 00151 | Loss: 0.4144\n",
            "F1-Score: 0.6035\n",
            "Epoch 00152 | Loss: 0.4115\n",
            "Epoch 00153 | Loss: 0.4117\n",
            "Epoch 00154 | Loss: 0.4111\n",
            "Epoch 00155 | Loss: 0.4104\n",
            "Epoch 00156 | Loss: 0.4101\n",
            "F1-Score: 0.6446\n",
            "Epoch 00157 | Loss: 0.4104\n",
            "Epoch 00158 | Loss: 0.4121\n",
            "Epoch 00159 | Loss: 0.4125\n",
            "Epoch 00160 | Loss: 0.4134\n",
            "Epoch 00161 | Loss: 0.4147\n",
            "F1-Score: 0.6315\n",
            "Epoch 00162 | Loss: 0.4141\n",
            "Epoch 00163 | Loss: 0.4126\n",
            "Epoch 00164 | Loss: 0.4107\n",
            "Epoch 00165 | Loss: 0.4108\n",
            "Epoch 00166 | Loss: 0.4130\n",
            "F1-Score: 0.5965\n",
            "Epoch 00167 | Loss: 0.4109\n",
            "Epoch 00168 | Loss: 0.4107\n",
            "Epoch 00169 | Loss: 0.4114\n",
            "Epoch 00170 | Loss: 0.4124\n",
            "Epoch 00171 | Loss: 0.4103\n",
            "F1-Score: 0.6307\n",
            "Epoch 00172 | Loss: 0.4113\n",
            "Epoch 00173 | Loss: 0.4096\n",
            "Epoch 00174 | Loss: 0.4086\n",
            "Epoch 00175 | Loss: 0.4089\n",
            "Epoch 00176 | Loss: 0.4086\n",
            "F1-Score: 0.6357\n",
            "Epoch 00177 | Loss: 0.4071\n",
            "Epoch 00178 | Loss: 0.4064\n",
            "Epoch 00179 | Loss: 0.4049\n",
            "Epoch 00180 | Loss: 0.4033\n",
            "Epoch 00181 | Loss: 0.4025\n",
            "F1-Score: 0.6359\n",
            "Epoch 00182 | Loss: 0.4011\n",
            "Epoch 00183 | Loss: 0.4004\n",
            "Epoch 00184 | Loss: 0.4000\n",
            "Epoch 00185 | Loss: 0.4005\n",
            "Epoch 00186 | Loss: 0.4003\n",
            "F1-Score: 0.6340\n",
            "Epoch 00187 | Loss: 0.4003\n",
            "Epoch 00188 | Loss: 0.4008\n",
            "Epoch 00189 | Loss: 0.4007\n",
            "Epoch 00190 | Loss: 0.4014\n",
            "Epoch 00191 | Loss: 0.4012\n",
            "F1-Score: 0.6408\n",
            "Epoch 00192 | Loss: 0.4020\n",
            "Epoch 00193 | Loss: 0.4024\n",
            "Epoch 00194 | Loss: 0.4014\n",
            "Epoch 00195 | Loss: 0.4014\n",
            "Epoch 00196 | Loss: 0.4008\n",
            "F1-Score: 0.6314\n",
            "Epoch 00197 | Loss: 0.3992\n",
            "Epoch 00198 | Loss: 0.3980\n",
            "Epoch 00199 | Loss: 0.3988\n",
            "Epoch 00200 | Loss: 0.3979\n"
          ]
        }
      ],
      "source": [
        "### DEVICE GPU OR CPU : will select GPU if available\n",
        "device = torch.device('cuda' if torch.cuda.is_available() else 'cpu')\n",
        "print(\"\\nDevice: \", device)\n",
        "\n",
        "### Max number of epochs\n",
        "max_epochs = 200\n",
        "\n",
        "### DEFINE THE MODEL\n",
        "basic_model = BasicGraphModel(  input_size = n_features, \n",
        "                                hidden_size = 256, \n",
        "                                output_size = n_classes).to(device)\n",
        "\n",
        "### DEFINE LOSS FUNCTION\n",
        "loss_fcn = nn.BCEWithLogitsLoss()\n",
        "\n",
        "### DEFINE OPTIMIZER\n",
        "optimizer = torch.optim.Adam(basic_model.parameters(), lr=0.005)\n",
        "\n",
        "### TRAIN THE MODEL\n",
        "epoch_list, basic_model_scores = train(basic_model, loss_fcn, device, optimizer, max_epochs, train_dataloader, val_dataloader)"
      ]
    },
    {
      "cell_type": "markdown",
      "metadata": {
        "id": "2sGc5g7Xmap2"
      },
      "source": [
        "Let's evaluate the performance of this basic model"
      ]
    },
    {
      "cell_type": "code",
      "execution_count": null,
      "metadata": {
        "colab": {
          "base_uri": "https://localhost:8080/",
          "height": 353
        },
        "id": "ztfbbg2TNP7F",
        "outputId": "05eef158-b8ce-4123-8c7d-455f67b9e87e"
      },
      "outputs": [
        {
          "output_type": "stream",
          "name": "stdout",
          "text": [
            "Basic Model : F1-Score on the test set: 0.6529\n"
          ]
        },
        {
          "output_type": "display_data",
          "data": {
            "text/plain": [
              "<Figure size 720x360 with 1 Axes>"
            ],
            "image/png": "[encoded data removed]"
          },
          "metadata": {
            "needs_background": "light"
          }
        }
      ],
      "source": [
        "### F1-SCORE ON TEST DATASET\n",
        "score_test = evaluate(basic_model, loss_fcn, device, test_dataloader)\n",
        "print(\"Basic Model : F1-Score on the test set: {:.4f}\".format(score_test))\n",
        "\n",
        "### PLOT EVOLUTION OF F1-SCORE W.R.T EPOCHS\n",
        "def plot_f1_score(epoch_list, scores) :\n",
        "    plt.figure(figsize=[10,5])\n",
        "    plt.plot(epoch_list, scores)\n",
        "    plt.title(\"Evolution of F1S-Score w.r.t epochs\")\n",
        "    plt.ylim([0.0, 1.0])\n",
        "    plt.show()\n",
        "    \n",
        "plot_f1_score(epoch_list, basic_model_scores)"
      ]
    },
    {
      "cell_type": "markdown",
      "metadata": {
        "id": "TRVsy5vLnWm_"
      },
      "source": [
        "### Define a better model\n",
        "\n",
        "Now, it's your turn to improve this basic model ! To do so, complete whenever ###### YOUR ANSWER ######## and run the two following cells.\n",
        "\n",
        "**HINT :** https://arxiv.org/pdf/1710.10903.pdf"
      ]
    },
    {
      "cell_type": "code",
      "execution_count": null,
      "metadata": {
        "id": "qTo7PxFpRHzL"
      },
      "outputs": [],
      "source": [
        "import torch.nn.functional as F\n",
        "from torch.nn import Linear, Dropout\n",
        "from torch_geometric.nn import GCNConv, GATv2Conv\n",
        "class StudentModel(nn.Module):\n",
        "  def __init__(self, input_size, hidden_size, output_size, heads=8):\n",
        "      super().__init__()\n",
        "      ####### YOUR ANSWER #######\n",
        "      self.gat1 = GATv2Conv(input_size, hidden_size, heads=heads)\n",
        "      self.gat2 = GATv2Conv(hidden_size*heads, output_size, heads=1)\n",
        "      self.optimizer = torch.optim.Adam(self.parameters(),\n",
        "                                      lr=0.01,\n",
        "                                      weight_decay=5e-4)\n",
        "  def forward(self, x, edge_index):\n",
        "\n",
        "      ####### YOUR ANSWER #######\n",
        "      h = F.dropout(x, p=0.6, training=self.training)\n",
        "      h = self.gat1(x, edge_index)\n",
        "      h = F.elu(h)\n",
        "      h = F.dropout(h, p=0.6, training=self.training)\n",
        "      h = self.gat2(h, edge_index)\n",
        "      return h\n",
        "  "
      ]
    },
    {
      "cell_type": "markdown",
      "metadata": {
        "id": "4yGdQ2uxpCAX"
      },
      "source": [
        "Let's train your model !"
      ]
    },
    {
      "cell_type": "code",
      "execution_count": null,
      "metadata": {
        "id": "6XIYzkYRo3AQ",
        "colab": {
          "base_uri": "https://localhost:8080/"
        },
        "outputId": "eb82387e-94ed-44a4-b5e8-23b16ba88928"
      },
      "outputs": [
        {
          "output_type": "stream",
          "name": "stdout",
          "text": [
            "Epoch 00001 | Loss: 0.5737\n",
            "F1-Score: 0.4126\n",
            "Epoch 00002 | Loss: 0.5343\n",
            "Epoch 00003 | Loss: 0.5127\n",
            "Epoch 00004 | Loss: 0.4971\n",
            "Epoch 00005 | Loss: 0.4801\n",
            "Epoch 00006 | Loss: 0.4715\n",
            "F1-Score: 0.5496\n",
            "Epoch 00007 | Loss: 0.4558\n",
            "Epoch 00008 | Loss: 0.4438\n",
            "Epoch 00009 | Loss: 0.4356\n",
            "Epoch 00010 | Loss: 0.4284\n",
            "Epoch 00011 | Loss: 0.4215\n",
            "F1-Score: 0.6549\n",
            "Epoch 00012 | Loss: 0.4146\n",
            "Epoch 00013 | Loss: 0.4081\n",
            "Epoch 00014 | Loss: 0.4094\n",
            "Epoch 00015 | Loss: 0.4051\n",
            "Epoch 00016 | Loss: 0.3976\n",
            "F1-Score: 0.6797\n",
            "Epoch 00017 | Loss: 0.3964\n",
            "Epoch 00018 | Loss: 0.3887\n",
            "Epoch 00019 | Loss: 0.3833\n",
            "Epoch 00020 | Loss: 0.3816\n",
            "Epoch 00021 | Loss: 0.3773\n",
            "F1-Score: 0.6802\n",
            "Epoch 00022 | Loss: 0.3730\n",
            "Epoch 00023 | Loss: 0.3703\n",
            "Epoch 00024 | Loss: 0.3692\n",
            "Epoch 00025 | Loss: 0.3704\n",
            "Epoch 00026 | Loss: 0.3636\n",
            "F1-Score: 0.7123\n",
            "Epoch 00027 | Loss: 0.3582\n",
            "Epoch 00028 | Loss: 0.3556\n",
            "Epoch 00029 | Loss: 0.3511\n",
            "Epoch 00030 | Loss: 0.3488\n",
            "Epoch 00031 | Loss: 0.3470\n",
            "F1-Score: 0.7316\n",
            "Epoch 00032 | Loss: 0.3477\n",
            "Epoch 00033 | Loss: 0.3476\n",
            "Epoch 00034 | Loss: 0.3448\n",
            "Epoch 00035 | Loss: 0.3400\n",
            "Epoch 00036 | Loss: 0.3429\n",
            "F1-Score: 0.7163\n",
            "Epoch 00037 | Loss: 0.3436\n",
            "Epoch 00038 | Loss: 0.3387\n",
            "Epoch 00039 | Loss: 0.3344\n",
            "Epoch 00040 | Loss: 0.3340\n",
            "Epoch 00041 | Loss: 0.3322\n",
            "F1-Score: 0.7573\n",
            "Epoch 00042 | Loss: 0.3304\n",
            "Epoch 00043 | Loss: 0.3288\n",
            "Epoch 00044 | Loss: 0.3273\n",
            "Epoch 00045 | Loss: 0.3242\n",
            "Epoch 00046 | Loss: 0.3228\n",
            "F1-Score: 0.7576\n",
            "Epoch 00047 | Loss: 0.3217\n",
            "Epoch 00048 | Loss: 0.3209\n",
            "Epoch 00049 | Loss: 0.3199\n",
            "Epoch 00050 | Loss: 0.3218\n",
            "Epoch 00051 | Loss: 0.3198\n",
            "F1-Score: 0.7639\n",
            "Epoch 00052 | Loss: 0.3178\n",
            "Epoch 00053 | Loss: 0.3156\n",
            "Epoch 00054 | Loss: 0.3202\n",
            "Epoch 00055 | Loss: 0.3303\n",
            "Epoch 00056 | Loss: 0.3237\n",
            "F1-Score: 0.7742\n",
            "Epoch 00057 | Loss: 0.3201\n",
            "Epoch 00058 | Loss: 0.3162\n",
            "Epoch 00059 | Loss: 0.3124\n",
            "Epoch 00060 | Loss: 0.3101\n",
            "Epoch 00061 | Loss: 0.3086\n",
            "F1-Score: 0.7784\n",
            "Epoch 00062 | Loss: 0.3064\n",
            "Epoch 00063 | Loss: 0.3062\n",
            "Epoch 00064 | Loss: 0.3054\n",
            "Epoch 00065 | Loss: 0.3059\n",
            "Epoch 00066 | Loss: 0.3039\n",
            "F1-Score: 0.7867\n",
            "Epoch 00067 | Loss: 0.3043\n",
            "Epoch 00068 | Loss: 0.3042\n",
            "Epoch 00069 | Loss: 0.3042\n",
            "Epoch 00070 | Loss: 0.3050\n",
            "Epoch 00071 | Loss: 0.3029\n",
            "F1-Score: 0.7877\n",
            "Epoch 00072 | Loss: 0.3024\n",
            "Epoch 00073 | Loss: 0.2998\n",
            "Epoch 00074 | Loss: 0.2992\n",
            "Epoch 00075 | Loss: 0.2979\n",
            "Epoch 00076 | Loss: 0.2997\n",
            "F1-Score: 0.7899\n",
            "Epoch 00077 | Loss: 0.3022\n",
            "Epoch 00078 | Loss: 0.2998\n",
            "Epoch 00079 | Loss: 0.2997\n",
            "Epoch 00080 | Loss: 0.2979\n",
            "Epoch 00081 | Loss: 0.2964\n",
            "F1-Score: 0.7909\n",
            "Epoch 00082 | Loss: 0.2958\n",
            "Epoch 00083 | Loss: 0.2944\n",
            "Epoch 00084 | Loss: 0.2924\n",
            "Epoch 00085 | Loss: 0.2927\n",
            "Epoch 00086 | Loss: 0.2932\n",
            "F1-Score: 0.8001\n",
            "Epoch 00087 | Loss: 0.3106\n",
            "Epoch 00088 | Loss: 0.3023\n",
            "Epoch 00089 | Loss: 0.2956\n",
            "Epoch 00090 | Loss: 0.2971\n",
            "Epoch 00091 | Loss: 0.2961\n",
            "F1-Score: 0.7992\n",
            "Epoch 00092 | Loss: 0.2935\n",
            "Epoch 00093 | Loss: 0.2920\n",
            "Epoch 00094 | Loss: 0.2916\n",
            "Epoch 00095 | Loss: 0.2882\n",
            "Epoch 00096 | Loss: 0.2882\n",
            "F1-Score: 0.7997\n",
            "Epoch 00097 | Loss: 0.2882\n",
            "Epoch 00098 | Loss: 0.2886\n",
            "Epoch 00099 | Loss: 0.2882\n",
            "Epoch 00100 | Loss: 0.2866\n",
            "Epoch 00101 | Loss: 0.2863\n",
            "F1-Score: 0.8031\n",
            "Epoch 00102 | Loss: 0.2852\n",
            "Epoch 00103 | Loss: 0.2852\n",
            "Epoch 00104 | Loss: 0.2854\n",
            "Epoch 00105 | Loss: 0.2863\n",
            "Epoch 00106 | Loss: 0.2887\n",
            "F1-Score: 0.8030\n",
            "Epoch 00107 | Loss: 0.2864\n",
            "Epoch 00108 | Loss: 0.2838\n",
            "Epoch 00109 | Loss: 0.2836\n",
            "Epoch 00110 | Loss: 0.2837\n",
            "Epoch 00111 | Loss: 0.2824\n",
            "F1-Score: 0.8054\n",
            "Epoch 00112 | Loss: 0.2806\n",
            "Epoch 00113 | Loss: 0.2805\n",
            "Epoch 00114 | Loss: 0.2812\n",
            "Epoch 00115 | Loss: 0.2876\n",
            "Epoch 00116 | Loss: 0.2882\n",
            "F1-Score: 0.8038\n",
            "Epoch 00117 | Loss: 0.2824\n",
            "Epoch 00118 | Loss: 0.2801\n",
            "Epoch 00119 | Loss: 0.2810\n",
            "Epoch 00120 | Loss: 0.2787\n",
            "Epoch 00121 | Loss: 0.2775\n",
            "F1-Score: 0.8104\n",
            "Epoch 00122 | Loss: 0.2792\n",
            "Epoch 00123 | Loss: 0.2778\n",
            "Epoch 00124 | Loss: 0.2784\n",
            "Epoch 00125 | Loss: 0.2782\n",
            "Epoch 00126 | Loss: 0.2792\n",
            "F1-Score: 0.8111\n",
            "Epoch 00127 | Loss: 0.2822\n",
            "Epoch 00128 | Loss: 0.2800\n",
            "Epoch 00129 | Loss: 0.2820\n",
            "Epoch 00130 | Loss: 0.2795\n",
            "Epoch 00131 | Loss: 0.2800\n",
            "F1-Score: 0.8054\n",
            "Epoch 00132 | Loss: 0.2805\n",
            "Epoch 00133 | Loss: 0.2777\n",
            "Epoch 00134 | Loss: 0.2784\n",
            "Epoch 00135 | Loss: 0.2782\n",
            "Epoch 00136 | Loss: 0.2775\n",
            "F1-Score: 0.8185\n",
            "Epoch 00137 | Loss: 0.2816\n",
            "Epoch 00138 | Loss: 0.2787\n",
            "Epoch 00139 | Loss: 0.2762\n",
            "Epoch 00140 | Loss: 0.2749\n",
            "Epoch 00141 | Loss: 0.2735\n",
            "F1-Score: 0.8187\n",
            "Epoch 00142 | Loss: 0.2740\n",
            "Epoch 00143 | Loss: 0.2759\n",
            "Epoch 00144 | Loss: 0.2734\n",
            "Epoch 00145 | Loss: 0.2732\n",
            "Epoch 00146 | Loss: 0.2737\n",
            "F1-Score: 0.8200\n",
            "Epoch 00147 | Loss: 0.2724\n",
            "Epoch 00148 | Loss: 0.2722\n",
            "Epoch 00149 | Loss: 0.2720\n",
            "Epoch 00150 | Loss: 0.2745\n",
            "Epoch 00151 | Loss: 0.2762\n",
            "F1-Score: 0.8130\n",
            "Epoch 00152 | Loss: 0.2736\n",
            "Epoch 00153 | Loss: 0.2730\n",
            "Epoch 00154 | Loss: 0.2753\n",
            "Epoch 00155 | Loss: 0.2728\n",
            "Epoch 00156 | Loss: 0.2722\n",
            "F1-Score: 0.8150\n",
            "Epoch 00157 | Loss: 0.2722\n",
            "Epoch 00158 | Loss: 0.2706\n",
            "Epoch 00159 | Loss: 0.2698\n",
            "Epoch 00160 | Loss: 0.2708\n",
            "Epoch 00161 | Loss: 0.2727\n",
            "F1-Score: 0.8130\n",
            "Epoch 00162 | Loss: 0.2737\n",
            "Epoch 00163 | Loss: 0.2709\n",
            "Epoch 00164 | Loss: 0.2709\n",
            "Epoch 00165 | Loss: 0.2770\n",
            "Epoch 00166 | Loss: 0.2788\n",
            "F1-Score: 0.8190\n",
            "Epoch 00167 | Loss: 0.2793\n",
            "Epoch 00168 | Loss: 0.2769\n",
            "Epoch 00169 | Loss: 0.2726\n",
            "Epoch 00170 | Loss: 0.2686\n",
            "Epoch 00171 | Loss: 0.2668\n",
            "F1-Score: 0.8251\n",
            "Epoch 00172 | Loss: 0.2688\n",
            "Epoch 00173 | Loss: 0.2685\n",
            "Epoch 00174 | Loss: 0.2686\n",
            "Epoch 00175 | Loss: 0.2686\n",
            "Epoch 00176 | Loss: 0.2684\n",
            "F1-Score: 0.8249\n",
            "Epoch 00177 | Loss: 0.2680\n",
            "Epoch 00178 | Loss: 0.2687\n",
            "Epoch 00179 | Loss: 0.2721\n",
            "Epoch 00180 | Loss: 0.2707\n",
            "Epoch 00181 | Loss: 0.2730\n",
            "F1-Score: 0.8074\n",
            "Epoch 00182 | Loss: 0.2769\n",
            "Epoch 00183 | Loss: 0.2731\n",
            "Epoch 00184 | Loss: 0.2688\n",
            "Epoch 00185 | Loss: 0.2662\n",
            "Epoch 00186 | Loss: 0.2644\n",
            "F1-Score: 0.8285\n",
            "Epoch 00187 | Loss: 0.2641\n",
            "Epoch 00188 | Loss: 0.2642\n",
            "Epoch 00189 | Loss: 0.2631\n",
            "Epoch 00190 | Loss: 0.2626\n",
            "Epoch 00191 | Loss: 0.2621\n",
            "F1-Score: 0.8301\n",
            "Epoch 00192 | Loss: 0.2620\n",
            "Epoch 00193 | Loss: 0.2636\n",
            "Epoch 00194 | Loss: 0.2638\n",
            "Epoch 00195 | Loss: 0.2635\n",
            "Epoch 00196 | Loss: 0.2626\n",
            "F1-Score: 0.8260\n",
            "Epoch 00197 | Loss: 0.2634\n",
            "Epoch 00198 | Loss: 0.2625\n",
            "Epoch 00199 | Loss: 0.2631\n",
            "Epoch 00200 | Loss: 0.2619\n"
          ]
        }
      ],
      "source": [
        "## Student model\n",
        "student_model = StudentModel(input_size = n_features, \n",
        "                                hidden_size = 128, \n",
        "                                output_size = n_classes).to(device)\n",
        "\n",
        "### DEFINE LOSS FUNCTION AND OPTIMIZER\n",
        "optimizer = torch.optim.Adam(student_model.parameters(), lr=0.005)\n",
        "\n",
        "### TRAIN\n",
        "epoch_list, student_model_scores = train(student_model, loss_fcn, device, optimizer, max_epochs, train_dataloader, val_dataloader)"
      ]
    },
    {
      "cell_type": "markdown",
      "metadata": {
        "id": "aWatNTPBpQGY"
      },
      "source": [
        "Let's evaluate the performance of your model"
      ]
    },
    {
      "cell_type": "code",
      "execution_count": null,
      "metadata": {
        "id": "WFWMqwDuSj7b",
        "colab": {
          "base_uri": "https://localhost:8080/",
          "height": 367
        },
        "outputId": "dfc0207b-c58f-4a2f-ae03-2ccf1d45d035"
      },
      "outputs": [
        {
          "output_type": "stream",
          "name": "stdout",
          "text": [
            "Student Model : F1-Score on the test set: 0.8486\n"
          ]
        },
        {
          "output_type": "display_data",
          "data": {
            "text/plain": [
              "<Figure size 720x360 with 1 Axes>"
            ],
            "image/png": "[encoded data removed]"
          },
          "metadata": {
            "needs_background": "light"
          }
        }
      ],
      "source": [
        "score_test = evaluate(student_model, loss_fcn, device, test_dataloader)\n",
        "print(\"Student Model : F1-Score on the test set: {:.4f}\".format(score_test))\n",
        "\n",
        "def plot_f1_score(epoch_list, basic_model_scores, student_model_scores) :\n",
        "    plt.figure(figsize = [10,5])\n",
        "    plt.plot(epoch_list, basic_model_scores, 'b', label = \"Basic Model\")\n",
        "    plt.plot(epoch_list, student_model_scores, 'r', label = \"Student Model\")\n",
        "    plt.title(\"Evolution of f1 score w.r.t epochs\")\n",
        "    plt.ylim([0.0, 1.0])\n",
        "    plt.ylabel(\"Epochs\")\n",
        "    plt.xlabel(\"F1-Score\")\n",
        "    plt.legend()\n",
        "    plt.show()\n",
        "    \n",
        "plot_f1_score(epoch_list, basic_model_scores, student_model_scores)"
      ]
    },
    {
      "cell_type": "markdown",
      "metadata": {
        "id": "i9aVEYkuR3fp"
      },
      "source": [
        "## **PART 2 : QUESTIONS** (12/20)"
      ]
    },
    {
      "cell_type": "markdown",
      "metadata": {
        "id": "vZ-r6AWtR-Co"
      },
      "source": [
        "**1. Make a small paragraph that : (4pts)**\n",
        "1. Explains your achitecture and justify your choices (why the Graph Layer you chose is more efficient than the GCNLayer from the Basic Model?).\n",
        "2. Analyses your results (what is the F1-Score ? are your results convincing ? what is your position w.r.t state-of-the-art ?)."
      ]
    },
    {
      "cell_type": "markdown",
      "metadata": {
        "id": "4aiCvW4q5jRY"
      },
      "source": [
        "(Answer)\n",
        "\n",
        "GAT and GCN differ in how they aggregate node features. GCN averages equally weighted neighbor features with a fixed filter, limiting its ability to capture varying neighbor importance. GAT uses an attention mechanism that assigns weights based on similarity to the target node, enabling fine-grained information capture in sparse or complex graphs. GAT handles nodes with varying numbers of neighbors and learns incoming/outgoing edge weights. GAT outperforms GCN in node classification, link prediction, and recommendation by modeling complex, non-linear relationships. GAT is an expressive and flexible model that learns a more accurate graph representation.\n",
        "\n",
        "As we can see from the graph the F1-score of my model is way greater than of initial clearlly showing the superiority of GAT layers and the final results are 0.6675 vs 0.8453 on the test data. GAT layers are one of the most effective and widely used graph neural network architectures today, outperforming other models such as GCN and GraphSAGE on a variety of benchmark datasets for tasks such as node classification, link prediction, and recommendation. However, ongoing research is aimed at improving GAT layers and better understanding their limitations. Recent work has included the incorporation of additional attention mechanisms such as AttentionWalk and the combination of GAT layers with other graph neural network architectures such as Graph Convolutional Transformers. Overall, GAT layers are a promising architecture for graph neural networks and will remain an important area of research in machine learning."
      ]
    },
    {
      "cell_type": "markdown",
      "metadata": {
        "id": "5HIVqG4u5jfc"
      },
      "source": [
        "**2. Provide a diagramm of your architecture, which includes a good and clear legend as well as shapes information. The diagramm must be submitted as an external file, along with this notebook (PDF, JEPG or PNG format accepted). (2pts)**"
      ]
    },
    {
      "cell_type": "markdown",
      "metadata": {
        "id": "crMHLjkJ5pxl"
      },
      "source": [
        "**3. Make a small paragraph that explains: (6pts)**\n",
        "1. What _oversmoothing_ is in the context of Graph Neural Network. Why is it an issue ? \n",
        "2. Are there solutions to overcome it ? \n",
        "3. Do you think the model you constructed is robust with respect to oversmoothing ? Why ?"
      ]
    },
    {
      "cell_type": "markdown",
      "metadata": {
        "id": "QLPosSov_uPK"
      },
      "source": [
        "(ANSWER)\n",
        "\n",
        "Oversmoothing is a phenomenon in which information about individual nodes is lost as the number of graph convolution layers increases. This occurs because information from neighboring nodes is aggregated and propagated to the next layer in each layer. After many layers, each node's information becomes very similar to that of its neighbors, resulting in the loss of node-specific information. Oversmoothing is a problem because it can result in poor performance in downstream tasks requiring node-level information.\n",
        "\n",
        "There are several techniques for dealing with oversmoothing in GNNs. To avoid excessive information aggregation, one method is to limit the number of graph convolution layers. Another method is to use skip connections to keep data from previous layers. Attention mechanisms can also be added to the model, allowing it to focus on specific nodes. Furthermore, techniques such as graph coarsening and subgraph sampling can be used to reduce the size of the graph and simplify learning.\n",
        "\n",
        "There are several techniques for dealing with oversmoothing in GNNs. To avoid excessive information aggregation, one method is to limit the number of graph convolution layers. Another method is to use skip connections to keep data from previous layers. Attention mechanisms can also be added to the model, allowing it to focus on specific nodes. Furthermore, techniques such as graph coarsening and subgraph sampling can be used to reduce the size of the graph and simplify learning."
      ]
    }
  ],
  "metadata": {
    "accelerator": "GPU",
    "colab": {
      "provenance": []
    },
    "gpuClass": "standard",
    "kernelspec": {
      "display_name": "Python 3",
      "language": "python",
      "name": "python3"
    },
    "language_info": {
      "codemirror_mode": {
        "name": "ipython",
        "version": 3
      },
      "file_extension": ".py",
      "mimetype": "text/x-python",
      "name": "python",
      "nbconvert_exporter": "python",
      "pygments_lexer": "ipython3",
      "version": "3.7.6"
    }
  },
  "nbformat": 4,
  "nbformat_minor": 0
}