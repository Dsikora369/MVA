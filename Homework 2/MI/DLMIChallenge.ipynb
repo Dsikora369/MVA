{
  "metadata": {
    "kernelspec": {
      "language": "python",
      "display_name": "Python 3",
      "name": "python3"
    },
    "language_info": {
      "name": "python",
      "version": "3.7.12",
      "mimetype": "text/x-python",
      "codemirror_mode": {
        "name": "ipython",
        "version": 3
      },
      "pygments_lexer": "ipython3",
      "nbconvert_exporter": "python",
      "file_extension": ".py"
    },
    "colab": {
      "provenance": []
    }
  },
  "nbformat_minor": 0,
  "nbformat": 4,
  "cells": [
    {
      "cell_type": "markdown",
      "source": [
        "# Dataset and preprocessing"
      ],
      "metadata": {
        "id": "tKBmFjbyRlIZ"
      }
    },
    {
      "cell_type": "code",
      "source": [
        "import torch\n",
        "from torch.utils.data import Dataset\n",
        "from PIL import Image\n",
        "import torchvision.transforms as transforms\n",
        "import os\n",
        "\n",
        "class DoseDataset(Dataset):\n",
        "    def __init__(self, image_paths, root,transfo=transforms.ToTensor(),test=False):\n",
        "        self.image_paths = image_paths\n",
        "        self.transform = transfo\n",
        "        self.root = root\n",
        "        self.test = test\n",
        "\n",
        "        \n",
        "    def __getitem__(self, index):\n",
        "        ct_path = self.root + self.image_paths[index] + '/ct.npy'\n",
        "        dose = torch.zeros(1)\n",
        "        if self.test == False:\n",
        "            dose_path = self.root + self.image_paths[index] + '/dose.npy'\n",
        "        possible_dose_mask_path = self.root + self.image_paths[index] + '/possible_dose_mask.npy'\n",
        "        structure_masks_path = self.root + self.image_paths[index] + '/structure_masks.npy'\n",
        "\n",
        "        ct = np.expand_dims(np.load(ct_path),0)\n",
        "        if self.test == False:\n",
        "            dose = np.expand_dims(np.load(dose_path),0)\n",
        "            dose = torch.Tensor(dose)\n",
        "\n",
        "        possible_dose_mask = np.expand_dims(np.load(possible_dose_mask_path),0)\n",
        "        structure_masks = np.load(structure_masks_path)\n",
        "        \n",
        "        epsillon = 1e-7\n",
        "        ct = (ct - ct.min())/(ct.max()-ct.min()+epsillon)\n",
        "        x = np.concatenate((ct,structure_masks,possible_dose_mask))\n",
        "        x = self.transform(x)\n",
        "        \n",
        "        if self.test == True:\n",
        "            return x,possible_dose_mask,self.image_paths[index]\n",
        "        return x,possible_dose_mask,dose\n",
        "    \n",
        "    def __len__(self):\n",
        "        return len(self.image_paths)\n",
        "\n",
        "\n",
        "rootTrain = '/kaggle/input/datasetdose/train/train/'\n",
        "paths = os.listdir(rootTrain)\n",
        "\n",
        "datasetTrain = DoseDataset(paths,rootTrain,transfo=transforms.ToTensor())\n",
        "\n",
        "\n",
        "batch_size = 32\n",
        "trainLoader = torch.utils.data.DataLoader(\n",
        "    datasetTrain,\n",
        "    batch_size=batch_size, shuffle=True, num_workers=1)\n",
        "\n",
        "rootVal = '/kaggle/input/datasetdose/validation/validation/'\n",
        "pathsVal = os.listdir(rootVal)\n",
        "datasetVal = DoseDataset(pathsVal,rootVal,transfo=transforms.ToTensor())\n",
        "\n",
        "valLoader = torch.utils.data.DataLoader(\n",
        "    datasetVal,\n",
        "    batch_size=batch_size, shuffle=True, num_workers=1)\n",
        "\n",
        "\n",
        "\n",
        "rootTest = '/kaggle/input/datasetdose/test/test/'\n",
        "pathsTest = os.listdir(rootTest)\n",
        "datasetTest = DoseDataset(pathsTest,rootTest ,transfo=transforms.ToTensor(),test=True)\n",
        "\n",
        "testLoader = torch.utils.data.DataLoader(\n",
        "    datasetTest,\n",
        "    batch_size=batch_size, shuffle=True, num_workers=1)"
      ],
      "metadata": {
        "execution": {
          "iopub.status.busy": "2023-03-24T17:11:29.182827Z",
          "iopub.execute_input": "2023-03-24T17:11:29.183314Z",
          "iopub.status.idle": "2023-03-24T17:11:29.217219Z",
          "shell.execute_reply.started": "2023-03-24T17:11:29.183266Z",
          "shell.execute_reply": "2023-03-24T17:11:29.215965Z"
        },
        "trusted": true,
        "id": "hl-JNCeDCyAd"
      },
      "execution_count": null,
      "outputs": []
    },
    {
      "cell_type": "markdown",
      "source": [
        "# First model: U-net with encoder fully depthwise convolutional"
      ],
      "metadata": {
        "id": "0X5ODGdaRp2Q"
      }
    },
    {
      "cell_type": "code",
      "source": [
        "import torch.nn as nn\n",
        "\n",
        "class Block(nn.Module):\n",
        "    def __init__(self, in_ch, out_ch, kernel_size,nbGp=1):\n",
        "        super().__init__()\n",
        "        self.conv1 = nn.Conv2d(in_ch, out_ch, kernel_size, padding='same',groups=nbGp)\n",
        "        self.relu  = nn.LeakyReLU(negative_slope=0.03)\n",
        "        self.conv2 = nn.Conv2d(out_ch, out_ch, kernel_size, padding='same',groups=nbGp)\n",
        "        self.bn = nn.BatchNorm2d(out_ch)#nn.GroupNorm(4, out_ch)#nn.Identity()#nn.BatchNorm2d(out_ch)\n",
        "    \n",
        "    def forward(self, x):\n",
        "        return self.conv2(self.relu(self.bn(self.conv1(x))))\n",
        "    \n",
        "class Encoder(nn.Module):\n",
        "    def __init__(self, chs, kernel_size):\n",
        "        super().__init__()\n",
        "        self.enc_blocks = nn.ModuleList([Block(chs[i], chs[i+1], kernel_size,nbGp = chs[i]) for i in range(len(chs)-1)])\n",
        "        self.pool       = nn.MaxPool2d(2)\n",
        "    \n",
        "    def forward(self, x):\n",
        "        ftrs = []\n",
        "        for block in self.enc_blocks:\n",
        "            x = block(x)\n",
        "            ftrs.append(x)\n",
        "            x = self.pool(x)\n",
        "        return ftrs\n",
        "\n",
        "class DecoderTranspose(nn.Module):\n",
        "    def __init__(self, chs, kernel_size):\n",
        "        super().__init__()\n",
        "        self.chs         = chs\n",
        "        self.upconvs    = nn.ModuleList([nn.ConvTranspose2d(chs[i], chs[i+1], 2, 2) for i in range(len(chs)-1)]) ## Convolution transposée\n",
        "        self.dec_blocks  = nn.ModuleList([Block(chs[i], chs[i+1], kernel_size) for i in range(len(chs)-1)]) \n",
        "        \n",
        "    def forward(self, x, encoder_features):\n",
        "        for i in range(len(self.chs)-1):\n",
        "            x        = self.upconvs[i](x) \n",
        "            enc_ftrs = self.crop(encoder_features[i], x)\n",
        "            x        = torch.cat([x, enc_ftrs], dim=1)\n",
        "            x        = self.dec_blocks[i](x)\n",
        "        return x\n",
        "    \n",
        "    def crop(self, enc_ftrs, x):\n",
        "        _, _, H, W = x.shape\n",
        "        enc_ftrs   = torchvision.transforms.CenterCrop([H, W])(enc_ftrs)\n",
        "        return enc_ftrs\n",
        "    "
      ],
      "metadata": {
        "execution": {
          "iopub.status.busy": "2023-03-24T13:58:36.470860Z",
          "iopub.execute_input": "2023-03-24T13:58:36.471695Z",
          "iopub.status.idle": "2023-03-24T13:58:36.487600Z",
          "shell.execute_reply.started": "2023-03-24T13:58:36.471657Z",
          "shell.execute_reply": "2023-03-24T13:58:36.486538Z"
        },
        "trusted": true,
        "id": "VK_ZLP0xCyAd"
      },
      "execution_count": null,
      "outputs": []
    },
    {
      "cell_type": "code",
      "source": [
        "!pip install pytorch_model_summary"
      ],
      "metadata": {
        "execution": {
          "iopub.status.busy": "2023-03-24T13:59:45.545644Z",
          "iopub.execute_input": "2023-03-24T13:59:45.546027Z",
          "iopub.status.idle": "2023-03-24T13:59:57.248571Z",
          "shell.execute_reply.started": "2023-03-24T13:59:45.545987Z",
          "shell.execute_reply": "2023-03-24T13:59:57.247296Z"
        },
        "trusted": true,
        "id": "LvaTSXYgCyAe",
        "outputId": "a34b333d-6448-4ab9-b0a9-e2f6a1440b31"
      },
      "execution_count": null,
      "outputs": [
        {
          "name": "stdout",
          "text": "Collecting pytorch_model_summary\n  Downloading pytorch_model_summary-0.1.2-py3-none-any.whl (9.3 kB)\nRequirement already satisfied: numpy in /opt/conda/lib/python3.7/site-packages (from pytorch_model_summary) (1.21.6)\nRequirement already satisfied: torch in /opt/conda/lib/python3.7/site-packages (from pytorch_model_summary) (1.13.0)\nRequirement already satisfied: tqdm in /opt/conda/lib/python3.7/site-packages (from pytorch_model_summary) (4.64.1)\nRequirement already satisfied: typing-extensions in /opt/conda/lib/python3.7/site-packages (from torch->pytorch_model_summary) (4.4.0)\nInstalling collected packages: pytorch_model_summary\nSuccessfully installed pytorch_model_summary-0.1.2\n\u001b[33mWARNING: Running pip as the 'root' user can result in broken permissions and conflicting behaviour with the system package manager. It is recommended to use a virtual environment instead: https://pip.pypa.io/warnings/venv\u001b[0m\u001b[33m\n\u001b[0m",
          "output_type": "stream"
        }
      ]
    },
    {
      "cell_type": "code",
      "source": [
        "from pytorch_model_summary import summary\n",
        "import torchvision\n",
        "class UNetConvTranspose(nn.Module):\n",
        "    def __init__(self, channels, kernel_size):\n",
        "        super().__init__()\n",
        "        self.encoder     = Encoder((12,) + channels, kernel_size)\n",
        "        self.decoder     = DecoderTranspose(tuple(reversed(channels)), kernel_size)\n",
        "        self.head        = nn.Conv2d(channels[0], 1, 1)\n",
        "\n",
        "    def forward(self, x):\n",
        "        enc_ftrs = self.encoder(x)\n",
        "        out      = self.decoder(enc_ftrs[::-1][0], enc_ftrs[::-1][1:])\n",
        "        out      = self.head(out)\n",
        "        return out\n",
        "\n",
        "\n",
        "# Testing dimensions\n",
        "sig = torch.normal(0,1,(1,12,128,128))\n",
        "test_model = UNetConvTranspose(kernel_size=3, channels=(24,48,48*2,48*4,48*8)).cpu()\n",
        "test_tensor = sig.cpu()\n",
        "_ = summary(test_model, test_tensor, print_summary=True, show_input=False, max_depth=2, show_parent_layers=True)\n",
        "del test_model\n",
        "del test_tensor"
      ],
      "metadata": {
        "execution": {
          "iopub.status.busy": "2023-03-24T13:59:59.430849Z",
          "iopub.execute_input": "2023-03-24T13:59:59.431672Z",
          "iopub.status.idle": "2023-03-24T13:59:59.835529Z",
          "shell.execute_reply.started": "2023-03-24T13:59:59.431625Z",
          "shell.execute_reply": "2023-03-24T13:59:59.834275Z"
        },
        "trusted": true,
        "id": "H3_hbqdGCyAe",
        "outputId": "912ee68a-15ae-4ead-e0d5-f000fa9e85b1"
      },
      "execution_count": null,
      "outputs": [
        {
          "name": "stdout",
          "text": "-----------------------------------------------------------------------------------------------------------------\n                        Parent Layers          Layer (type)          Output Shape         Param #     Tr. Param #\n=================================================================================================================\n            UNetConvTranspose/Encoder               Block-1     [1, 24, 128, 128]             744             744\n            UNetConvTranspose/Encoder           MaxPool2d-2       [1, 24, 64, 64]               0               0\n            UNetConvTranspose/Encoder               Block-3       [1, 48, 64, 64]           1,488           1,488\n            UNetConvTranspose/Encoder               Block-4       [1, 96, 32, 32]           2,976           2,976\n            UNetConvTranspose/Encoder               Block-5      [1, 192, 16, 16]           5,952           5,952\n            UNetConvTranspose/Encoder               Block-6        [1, 384, 8, 8]          11,904          11,904\n   UNetConvTranspose/DecoderTranspose     ConvTranspose2d-7      [1, 192, 16, 16]         295,104         295,104\n   UNetConvTranspose/DecoderTranspose               Block-8      [1, 192, 16, 16]         996,096         996,096\n   UNetConvTranspose/DecoderTranspose     ConvTranspose2d-9       [1, 96, 32, 32]          73,824          73,824\n   UNetConvTranspose/DecoderTranspose              Block-10       [1, 96, 32, 32]         249,216         249,216\n   UNetConvTranspose/DecoderTranspose    ConvTranspose2d-11       [1, 48, 64, 64]          18,480          18,480\n   UNetConvTranspose/DecoderTranspose              Block-12       [1, 48, 64, 64]          62,400          62,400\n   UNetConvTranspose/DecoderTranspose    ConvTranspose2d-13     [1, 24, 128, 128]           4,632           4,632\n   UNetConvTranspose/DecoderTranspose              Block-14     [1, 24, 128, 128]          15,648          15,648\n                    UNetConvTranspose             Conv2d-15      [1, 1, 128, 128]              25              25\n=================================================================================================================\nTotal params: 1,738,489\nTrainable params: 1,738,489\nNon-trainable params: 0\n-----------------------------------------------------------------------------------------------------------------\n",
          "output_type": "stream"
        }
      ]
    },
    {
      "cell_type": "code",
      "source": [
        "\n",
        "def train(epoch, network,trainLoss,train_dataloader,optimizer):\n",
        "    network.train()\n",
        "    lossEpoch = []\n",
        "    for i,(batch,mask,labs) in enumerate(train_dataloader):\n",
        "        batch = batch.permute(0,2,1,3)\n",
        "\n",
        "        batch = batch.to(device)\n",
        "        labs = labs.to(device)\n",
        "        mask = mask.to(device)\n",
        "            \n",
        "        optimizer.zero_grad()\n",
        "        output = network(batch.float())*mask\n",
        "        lossFun = torch.nn.L1Loss()\n",
        "        loss = lossFun(output, labs.long())\n",
        "        lossEpoch.append(loss.item())\n",
        "        loss.backward()\n",
        "        optimizer.step()\n",
        "        if i % 100 == 0:\n",
        "            print('Train Epoch: {} [{}/{} ({:.0f}%)]\\tLoss: {:.6f}'.format(\n",
        "                epoch, i * len(batch), len(train_dataloader.dataset),\n",
        "                100. * i / len(train_dataloader), loss.item()))\n",
        "    print('Mean loss of the epoch: ',np.mean(np.array(lossEpoch)))\n",
        "    trainLoss.append(np.mean(np.array(lossEpoch)))\n",
        "\n",
        "\n",
        "def test(network,testLoss,test_dataloader,device,batch_size=32):\n",
        "    network.eval()\n",
        "    test_loss = 0\n",
        "    correct = 0\n",
        "    for data, mask,target in test_dataloader:\n",
        "        data = data.permute(0,2,1,3)\n",
        "\n",
        "        data=data.to(device)\n",
        "        target=target.to(device)\n",
        "        mask = mask.to(device)\n",
        "\n",
        "        output = network(data.float())*mask\n",
        "\n",
        "        lossFun = torch.nn.L1Loss()\n",
        "        test_loss += lossFun(output, target.long()).item() # sum up batch loss\n",
        "        pred = output.data\n",
        "\n",
        "    test_loss /= len(test_dataloader.dataset)\n",
        "    testLoss.append(test_loss*batch_size)\n",
        "    print('\\nTest set: Average loss: {:.4f}\\n'.format(\n",
        "        test_loss*batch_size))\n",
        "    return test_loss"
      ],
      "metadata": {
        "execution": {
          "iopub.status.busy": "2023-03-24T15:08:51.678779Z",
          "iopub.execute_input": "2023-03-24T15:08:51.679917Z",
          "iopub.status.idle": "2023-03-24T15:08:51.694547Z",
          "shell.execute_reply.started": "2023-03-24T15:08:51.679871Z",
          "shell.execute_reply": "2023-03-24T15:08:51.693148Z"
        },
        "trusted": true,
        "id": "P_2ssgDQCyAf"
      },
      "execution_count": null,
      "outputs": []
    },
    {
      "cell_type": "code",
      "source": [
        "import numpy as np\n",
        "device = 'cuda' if torch.cuda.is_available() else 'cpu'\n",
        "print(device)\n",
        "best_loss = float('inf')\n",
        "model = UNetConvTranspose(kernel_size=3, channels=(24,24*2,24*4,24*8))\n",
        "optimizer = torch.optim.Adam(model.parameters(),lr=3e-4,weight_decay=1e-5)\n",
        " \n",
        "model.train()\n",
        "model=model.to(device)\n",
        "n_epochs = 30\n",
        "trainLoss = []\n",
        "testLoss = []\n",
        "for k in range(n_epochs):\n",
        "    train(k,model,trainLoss,trainLoader,optimizer)\n",
        "    b2 = test(model,testLoss,valLoader,device,batch_size)\n",
        "    if b2 < best_loss:\n",
        "        best_loss = b2\n",
        "        torch.save(model.state_dict(), './model'+str(k)+'.pt')"
      ],
      "metadata": {
        "execution": {
          "iopub.status.busy": "2023-03-24T14:28:05.009038Z",
          "iopub.execute_input": "2023-03-24T14:28:05.009843Z",
          "iopub.status.idle": "2023-03-24T14:38:12.306517Z",
          "shell.execute_reply.started": "2023-03-24T14:28:05.009804Z",
          "shell.execute_reply": "2023-03-24T14:38:12.300947Z"
        },
        "trusted": true,
        "id": "7_ahfvMMCyAf",
        "outputId": "ae5d1aab-984c-4691-edc6-21e06353a687"
      },
      "execution_count": null,
      "outputs": [
        {
          "name": "stdout",
          "text": "cuda\nTrain Epoch: 0 [0/7800 (0%)]\tLoss: 2.645636\nTrain Epoch: 0 [3200/7800 (41%)]\tLoss: 0.789058\nTrain Epoch: 0 [6400/7800 (82%)]\tLoss: 0.882802\nMean loss of the epoch:  1.1103845896812086\n\nTest set: Average loss: 0.7654\n\nTrain Epoch: 1 [0/7800 (0%)]\tLoss: 0.797189\nTrain Epoch: 1 [3200/7800 (41%)]\tLoss: 0.737379\nTrain Epoch: 1 [6400/7800 (82%)]\tLoss: 0.806788\nMean loss of the epoch:  0.7178150366073568\n\nTest set: Average loss: 0.6915\n\nTrain Epoch: 2 [0/7800 (0%)]\tLoss: 0.725914\nTrain Epoch: 2 [3200/7800 (41%)]\tLoss: 0.577207\nTrain Epoch: 2 [6400/7800 (82%)]\tLoss: 0.715865\nMean loss of the epoch:  0.6470969121202774\n\nTest set: Average loss: 0.6847\n\nTrain Epoch: 3 [0/7800 (0%)]\tLoss: 0.553058\nTrain Epoch: 3 [3200/7800 (41%)]\tLoss: 0.626164\nTrain Epoch: 3 [6400/7800 (82%)]\tLoss: 0.585732\n",
          "output_type": "stream"
        },
        {
          "traceback": [
            "\u001b[0;31m---------------------------------------------------------------------------\u001b[0m",
            "\u001b[0;31mKeyboardInterrupt\u001b[0m                         Traceback (most recent call last)",
            "\u001b[0;32m/tmp/ipykernel_23/937874653.py\u001b[0m in \u001b[0;36m<module>\u001b[0;34m\u001b[0m\n\u001b[1;32m     12\u001b[0m \u001b[0mtestLoss\u001b[0m \u001b[0;34m=\u001b[0m \u001b[0;34m[\u001b[0m\u001b[0;34m]\u001b[0m\u001b[0;34m\u001b[0m\u001b[0;34m\u001b[0m\u001b[0m\n\u001b[1;32m     13\u001b[0m \u001b[0;32mfor\u001b[0m \u001b[0mk\u001b[0m \u001b[0;32min\u001b[0m \u001b[0mrange\u001b[0m\u001b[0;34m(\u001b[0m\u001b[0mn_epochs\u001b[0m\u001b[0;34m)\u001b[0m\u001b[0;34m:\u001b[0m\u001b[0;34m\u001b[0m\u001b[0;34m\u001b[0m\u001b[0m\n\u001b[0;32m---> 14\u001b[0;31m     \u001b[0mtrain\u001b[0m\u001b[0;34m(\u001b[0m\u001b[0mk\u001b[0m\u001b[0;34m,\u001b[0m\u001b[0mmodel\u001b[0m\u001b[0;34m,\u001b[0m\u001b[0mtrainLoss\u001b[0m\u001b[0;34m,\u001b[0m\u001b[0mtrainLoader\u001b[0m\u001b[0;34m,\u001b[0m\u001b[0moptimizer\u001b[0m\u001b[0;34m)\u001b[0m\u001b[0;34m\u001b[0m\u001b[0;34m\u001b[0m\u001b[0m\n\u001b[0m\u001b[1;32m     15\u001b[0m     \u001b[0mb2\u001b[0m \u001b[0;34m=\u001b[0m \u001b[0mtest\u001b[0m\u001b[0;34m(\u001b[0m\u001b[0mmodel\u001b[0m\u001b[0;34m,\u001b[0m\u001b[0mtestLoss\u001b[0m\u001b[0;34m,\u001b[0m\u001b[0mvalLoader\u001b[0m\u001b[0;34m,\u001b[0m\u001b[0mdevice\u001b[0m\u001b[0;34m,\u001b[0m\u001b[0mbatch_size\u001b[0m\u001b[0;34m)\u001b[0m\u001b[0;34m\u001b[0m\u001b[0;34m\u001b[0m\u001b[0m\n\u001b[1;32m     16\u001b[0m     \u001b[0;32mif\u001b[0m \u001b[0mb2\u001b[0m \u001b[0;34m<\u001b[0m \u001b[0mbest_loss\u001b[0m\u001b[0;34m:\u001b[0m\u001b[0;34m\u001b[0m\u001b[0;34m\u001b[0m\u001b[0m\n",
            "\u001b[0;32m/tmp/ipykernel_23/509958208.py\u001b[0m in \u001b[0;36mtrain\u001b[0;34m(epoch, network, trainLoss, train_dataloader, optimizer)\u001b[0m\n\u001b[1;32m      2\u001b[0m     \u001b[0mnetwork\u001b[0m\u001b[0;34m.\u001b[0m\u001b[0mtrain\u001b[0m\u001b[0;34m(\u001b[0m\u001b[0;34m)\u001b[0m\u001b[0;34m\u001b[0m\u001b[0;34m\u001b[0m\u001b[0m\n\u001b[1;32m      3\u001b[0m     \u001b[0mlossEpoch\u001b[0m \u001b[0;34m=\u001b[0m \u001b[0;34m[\u001b[0m\u001b[0;34m]\u001b[0m\u001b[0;34m\u001b[0m\u001b[0;34m\u001b[0m\u001b[0m\n\u001b[0;32m----> 4\u001b[0;31m     \u001b[0;32mfor\u001b[0m \u001b[0mi\u001b[0m\u001b[0;34m,\u001b[0m\u001b[0;34m(\u001b[0m\u001b[0mbatch\u001b[0m\u001b[0;34m,\u001b[0m\u001b[0mmask\u001b[0m\u001b[0;34m,\u001b[0m\u001b[0mlabs\u001b[0m\u001b[0;34m)\u001b[0m \u001b[0;32min\u001b[0m \u001b[0menumerate\u001b[0m\u001b[0;34m(\u001b[0m\u001b[0mtrain_dataloader\u001b[0m\u001b[0;34m)\u001b[0m\u001b[0;34m:\u001b[0m\u001b[0;34m\u001b[0m\u001b[0;34m\u001b[0m\u001b[0m\n\u001b[0m\u001b[1;32m      5\u001b[0m         \u001b[0mbatch\u001b[0m \u001b[0;34m=\u001b[0m \u001b[0mbatch\u001b[0m\u001b[0;34m.\u001b[0m\u001b[0mpermute\u001b[0m\u001b[0;34m(\u001b[0m\u001b[0;36m0\u001b[0m\u001b[0;34m,\u001b[0m\u001b[0;36m2\u001b[0m\u001b[0;34m,\u001b[0m\u001b[0;36m1\u001b[0m\u001b[0;34m,\u001b[0m\u001b[0;36m3\u001b[0m\u001b[0;34m)\u001b[0m\u001b[0;34m\u001b[0m\u001b[0;34m\u001b[0m\u001b[0m\n\u001b[1;32m      6\u001b[0m \u001b[0;34m\u001b[0m\u001b[0m\n",
            "\u001b[0;32m/opt/conda/lib/python3.7/site-packages/torch/utils/data/dataloader.py\u001b[0m in \u001b[0;36m__next__\u001b[0;34m(self)\u001b[0m\n\u001b[1;32m    626\u001b[0m                 \u001b[0;31m# TODO(https://github.com/pytorch/pytorch/issues/76750)\u001b[0m\u001b[0;34m\u001b[0m\u001b[0;34m\u001b[0m\u001b[0;34m\u001b[0m\u001b[0m\n\u001b[1;32m    627\u001b[0m                 \u001b[0mself\u001b[0m\u001b[0;34m.\u001b[0m\u001b[0m_reset\u001b[0m\u001b[0;34m(\u001b[0m\u001b[0;34m)\u001b[0m  \u001b[0;31m# type: ignore[call-arg]\u001b[0m\u001b[0;34m\u001b[0m\u001b[0;34m\u001b[0m\u001b[0m\n\u001b[0;32m--> 628\u001b[0;31m             \u001b[0mdata\u001b[0m \u001b[0;34m=\u001b[0m \u001b[0mself\u001b[0m\u001b[0;34m.\u001b[0m\u001b[0m_next_data\u001b[0m\u001b[0;34m(\u001b[0m\u001b[0;34m)\u001b[0m\u001b[0;34m\u001b[0m\u001b[0;34m\u001b[0m\u001b[0m\n\u001b[0m\u001b[1;32m    629\u001b[0m             \u001b[0mself\u001b[0m\u001b[0;34m.\u001b[0m\u001b[0m_num_yielded\u001b[0m \u001b[0;34m+=\u001b[0m \u001b[0;36m1\u001b[0m\u001b[0;34m\u001b[0m\u001b[0;34m\u001b[0m\u001b[0m\n\u001b[1;32m    630\u001b[0m             \u001b[0;32mif\u001b[0m \u001b[0mself\u001b[0m\u001b[0;34m.\u001b[0m\u001b[0m_dataset_kind\u001b[0m \u001b[0;34m==\u001b[0m \u001b[0m_DatasetKind\u001b[0m\u001b[0;34m.\u001b[0m\u001b[0mIterable\u001b[0m \u001b[0;32mand\u001b[0m\u001b[0;31m \u001b[0m\u001b[0;31m\\\u001b[0m\u001b[0;34m\u001b[0m\u001b[0;34m\u001b[0m\u001b[0m\n",
            "\u001b[0;32m/opt/conda/lib/python3.7/site-packages/torch/utils/data/dataloader.py\u001b[0m in \u001b[0;36m_next_data\u001b[0;34m(self)\u001b[0m\n\u001b[1;32m   1314\u001b[0m \u001b[0;34m\u001b[0m\u001b[0m\n\u001b[1;32m   1315\u001b[0m             \u001b[0;32massert\u001b[0m \u001b[0;32mnot\u001b[0m \u001b[0mself\u001b[0m\u001b[0;34m.\u001b[0m\u001b[0m_shutdown\u001b[0m \u001b[0;32mand\u001b[0m \u001b[0mself\u001b[0m\u001b[0;34m.\u001b[0m\u001b[0m_tasks_outstanding\u001b[0m \u001b[0;34m>\u001b[0m \u001b[0;36m0\u001b[0m\u001b[0;34m\u001b[0m\u001b[0;34m\u001b[0m\u001b[0m\n\u001b[0;32m-> 1316\u001b[0;31m             \u001b[0midx\u001b[0m\u001b[0;34m,\u001b[0m \u001b[0mdata\u001b[0m \u001b[0;34m=\u001b[0m \u001b[0mself\u001b[0m\u001b[0;34m.\u001b[0m\u001b[0m_get_data\u001b[0m\u001b[0;34m(\u001b[0m\u001b[0;34m)\u001b[0m\u001b[0;34m\u001b[0m\u001b[0;34m\u001b[0m\u001b[0m\n\u001b[0m\u001b[1;32m   1317\u001b[0m             \u001b[0mself\u001b[0m\u001b[0;34m.\u001b[0m\u001b[0m_tasks_outstanding\u001b[0m \u001b[0;34m-=\u001b[0m \u001b[0;36m1\u001b[0m\u001b[0;34m\u001b[0m\u001b[0;34m\u001b[0m\u001b[0m\n\u001b[1;32m   1318\u001b[0m             \u001b[0;32mif\u001b[0m \u001b[0mself\u001b[0m\u001b[0;34m.\u001b[0m\u001b[0m_dataset_kind\u001b[0m \u001b[0;34m==\u001b[0m \u001b[0m_DatasetKind\u001b[0m\u001b[0;34m.\u001b[0m\u001b[0mIterable\u001b[0m\u001b[0;34m:\u001b[0m\u001b[0;34m\u001b[0m\u001b[0;34m\u001b[0m\u001b[0m\n",
            "\u001b[0;32m/opt/conda/lib/python3.7/site-packages/torch/utils/data/dataloader.py\u001b[0m in \u001b[0;36m_get_data\u001b[0;34m(self)\u001b[0m\n\u001b[1;32m   1280\u001b[0m         \u001b[0;32melse\u001b[0m\u001b[0;34m:\u001b[0m\u001b[0;34m\u001b[0m\u001b[0;34m\u001b[0m\u001b[0m\n\u001b[1;32m   1281\u001b[0m             \u001b[0;32mwhile\u001b[0m \u001b[0;32mTrue\u001b[0m\u001b[0;34m:\u001b[0m\u001b[0;34m\u001b[0m\u001b[0;34m\u001b[0m\u001b[0m\n\u001b[0;32m-> 1282\u001b[0;31m                 \u001b[0msuccess\u001b[0m\u001b[0;34m,\u001b[0m \u001b[0mdata\u001b[0m \u001b[0;34m=\u001b[0m \u001b[0mself\u001b[0m\u001b[0;34m.\u001b[0m\u001b[0m_try_get_data\u001b[0m\u001b[0;34m(\u001b[0m\u001b[0;34m)\u001b[0m\u001b[0;34m\u001b[0m\u001b[0;34m\u001b[0m\u001b[0m\n\u001b[0m\u001b[1;32m   1283\u001b[0m                 \u001b[0;32mif\u001b[0m \u001b[0msuccess\u001b[0m\u001b[0;34m:\u001b[0m\u001b[0;34m\u001b[0m\u001b[0;34m\u001b[0m\u001b[0m\n\u001b[1;32m   1284\u001b[0m                     \u001b[0;32mreturn\u001b[0m \u001b[0mdata\u001b[0m\u001b[0;34m\u001b[0m\u001b[0;34m\u001b[0m\u001b[0m\n",
            "\u001b[0;32m/opt/conda/lib/python3.7/site-packages/torch/utils/data/dataloader.py\u001b[0m in \u001b[0;36m_try_get_data\u001b[0;34m(self, timeout)\u001b[0m\n\u001b[1;32m   1118\u001b[0m         \u001b[0;31m#   (bool: whether successfully get data, any: data if successful else None)\u001b[0m\u001b[0;34m\u001b[0m\u001b[0;34m\u001b[0m\u001b[0;34m\u001b[0m\u001b[0m\n\u001b[1;32m   1119\u001b[0m         \u001b[0;32mtry\u001b[0m\u001b[0;34m:\u001b[0m\u001b[0;34m\u001b[0m\u001b[0;34m\u001b[0m\u001b[0m\n\u001b[0;32m-> 1120\u001b[0;31m             \u001b[0mdata\u001b[0m \u001b[0;34m=\u001b[0m \u001b[0mself\u001b[0m\u001b[0;34m.\u001b[0m\u001b[0m_data_queue\u001b[0m\u001b[0;34m.\u001b[0m\u001b[0mget\u001b[0m\u001b[0;34m(\u001b[0m\u001b[0mtimeout\u001b[0m\u001b[0;34m=\u001b[0m\u001b[0mtimeout\u001b[0m\u001b[0;34m)\u001b[0m\u001b[0;34m\u001b[0m\u001b[0;34m\u001b[0m\u001b[0m\n\u001b[0m\u001b[1;32m   1121\u001b[0m             \u001b[0;32mreturn\u001b[0m \u001b[0;34m(\u001b[0m\u001b[0;32mTrue\u001b[0m\u001b[0;34m,\u001b[0m \u001b[0mdata\u001b[0m\u001b[0;34m)\u001b[0m\u001b[0;34m\u001b[0m\u001b[0;34m\u001b[0m\u001b[0m\n\u001b[1;32m   1122\u001b[0m         \u001b[0;32mexcept\u001b[0m \u001b[0mException\u001b[0m \u001b[0;32mas\u001b[0m \u001b[0me\u001b[0m\u001b[0;34m:\u001b[0m\u001b[0;34m\u001b[0m\u001b[0;34m\u001b[0m\u001b[0m\n",
            "\u001b[0;32m/opt/conda/lib/python3.7/multiprocessing/queues.py\u001b[0m in \u001b[0;36mget\u001b[0;34m(self, block, timeout)\u001b[0m\n\u001b[1;32m    102\u001b[0m                 \u001b[0;32mif\u001b[0m \u001b[0mblock\u001b[0m\u001b[0;34m:\u001b[0m\u001b[0;34m\u001b[0m\u001b[0;34m\u001b[0m\u001b[0m\n\u001b[1;32m    103\u001b[0m                     \u001b[0mtimeout\u001b[0m \u001b[0;34m=\u001b[0m \u001b[0mdeadline\u001b[0m \u001b[0;34m-\u001b[0m \u001b[0mtime\u001b[0m\u001b[0;34m.\u001b[0m\u001b[0mmonotonic\u001b[0m\u001b[0;34m(\u001b[0m\u001b[0;34m)\u001b[0m\u001b[0;34m\u001b[0m\u001b[0;34m\u001b[0m\u001b[0m\n\u001b[0;32m--> 104\u001b[0;31m                     \u001b[0;32mif\u001b[0m \u001b[0;32mnot\u001b[0m \u001b[0mself\u001b[0m\u001b[0;34m.\u001b[0m\u001b[0m_poll\u001b[0m\u001b[0;34m(\u001b[0m\u001b[0mtimeout\u001b[0m\u001b[0;34m)\u001b[0m\u001b[0;34m:\u001b[0m\u001b[0;34m\u001b[0m\u001b[0;34m\u001b[0m\u001b[0m\n\u001b[0m\u001b[1;32m    105\u001b[0m                         \u001b[0;32mraise\u001b[0m \u001b[0mEmpty\u001b[0m\u001b[0;34m\u001b[0m\u001b[0;34m\u001b[0m\u001b[0m\n\u001b[1;32m    106\u001b[0m                 \u001b[0;32melif\u001b[0m \u001b[0;32mnot\u001b[0m \u001b[0mself\u001b[0m\u001b[0;34m.\u001b[0m\u001b[0m_poll\u001b[0m\u001b[0;34m(\u001b[0m\u001b[0;34m)\u001b[0m\u001b[0;34m:\u001b[0m\u001b[0;34m\u001b[0m\u001b[0;34m\u001b[0m\u001b[0m\n",
            "\u001b[0;32m/opt/conda/lib/python3.7/multiprocessing/connection.py\u001b[0m in \u001b[0;36mpoll\u001b[0;34m(self, timeout)\u001b[0m\n\u001b[1;32m    255\u001b[0m         \u001b[0mself\u001b[0m\u001b[0;34m.\u001b[0m\u001b[0m_check_closed\u001b[0m\u001b[0;34m(\u001b[0m\u001b[0;34m)\u001b[0m\u001b[0;34m\u001b[0m\u001b[0;34m\u001b[0m\u001b[0m\n\u001b[1;32m    256\u001b[0m         \u001b[0mself\u001b[0m\u001b[0;34m.\u001b[0m\u001b[0m_check_readable\u001b[0m\u001b[0;34m(\u001b[0m\u001b[0;34m)\u001b[0m\u001b[0;34m\u001b[0m\u001b[0;34m\u001b[0m\u001b[0m\n\u001b[0;32m--> 257\u001b[0;31m         \u001b[0;32mreturn\u001b[0m \u001b[0mself\u001b[0m\u001b[0;34m.\u001b[0m\u001b[0m_poll\u001b[0m\u001b[0;34m(\u001b[0m\u001b[0mtimeout\u001b[0m\u001b[0;34m)\u001b[0m\u001b[0;34m\u001b[0m\u001b[0;34m\u001b[0m\u001b[0m\n\u001b[0m\u001b[1;32m    258\u001b[0m \u001b[0;34m\u001b[0m\u001b[0m\n\u001b[1;32m    259\u001b[0m     \u001b[0;32mdef\u001b[0m \u001b[0m__enter__\u001b[0m\u001b[0;34m(\u001b[0m\u001b[0mself\u001b[0m\u001b[0;34m)\u001b[0m\u001b[0;34m:\u001b[0m\u001b[0;34m\u001b[0m\u001b[0;34m\u001b[0m\u001b[0m\n",
            "\u001b[0;32m/opt/conda/lib/python3.7/multiprocessing/connection.py\u001b[0m in \u001b[0;36m_poll\u001b[0;34m(self, timeout)\u001b[0m\n\u001b[1;32m    412\u001b[0m \u001b[0;34m\u001b[0m\u001b[0m\n\u001b[1;32m    413\u001b[0m     \u001b[0;32mdef\u001b[0m \u001b[0m_poll\u001b[0m\u001b[0;34m(\u001b[0m\u001b[0mself\u001b[0m\u001b[0;34m,\u001b[0m \u001b[0mtimeout\u001b[0m\u001b[0;34m)\u001b[0m\u001b[0;34m:\u001b[0m\u001b[0;34m\u001b[0m\u001b[0;34m\u001b[0m\u001b[0m\n\u001b[0;32m--> 414\u001b[0;31m         \u001b[0mr\u001b[0m \u001b[0;34m=\u001b[0m \u001b[0mwait\u001b[0m\u001b[0;34m(\u001b[0m\u001b[0;34m[\u001b[0m\u001b[0mself\u001b[0m\u001b[0;34m]\u001b[0m\u001b[0;34m,\u001b[0m \u001b[0mtimeout\u001b[0m\u001b[0;34m)\u001b[0m\u001b[0;34m\u001b[0m\u001b[0;34m\u001b[0m\u001b[0m\n\u001b[0m\u001b[1;32m    415\u001b[0m         \u001b[0;32mreturn\u001b[0m \u001b[0mbool\u001b[0m\u001b[0;34m(\u001b[0m\u001b[0mr\u001b[0m\u001b[0;34m)\u001b[0m\u001b[0;34m\u001b[0m\u001b[0;34m\u001b[0m\u001b[0m\n\u001b[1;32m    416\u001b[0m \u001b[0;34m\u001b[0m\u001b[0m\n",
            "\u001b[0;32m/opt/conda/lib/python3.7/multiprocessing/connection.py\u001b[0m in \u001b[0;36mwait\u001b[0;34m(object_list, timeout)\u001b[0m\n\u001b[1;32m    919\u001b[0m \u001b[0;34m\u001b[0m\u001b[0m\n\u001b[1;32m    920\u001b[0m             \u001b[0;32mwhile\u001b[0m \u001b[0;32mTrue\u001b[0m\u001b[0;34m:\u001b[0m\u001b[0;34m\u001b[0m\u001b[0;34m\u001b[0m\u001b[0m\n\u001b[0;32m--> 921\u001b[0;31m                 \u001b[0mready\u001b[0m \u001b[0;34m=\u001b[0m \u001b[0mselector\u001b[0m\u001b[0;34m.\u001b[0m\u001b[0mselect\u001b[0m\u001b[0;34m(\u001b[0m\u001b[0mtimeout\u001b[0m\u001b[0;34m)\u001b[0m\u001b[0;34m\u001b[0m\u001b[0;34m\u001b[0m\u001b[0m\n\u001b[0m\u001b[1;32m    922\u001b[0m                 \u001b[0;32mif\u001b[0m \u001b[0mready\u001b[0m\u001b[0;34m:\u001b[0m\u001b[0;34m\u001b[0m\u001b[0;34m\u001b[0m\u001b[0m\n\u001b[1;32m    923\u001b[0m                     \u001b[0;32mreturn\u001b[0m \u001b[0;34m[\u001b[0m\u001b[0mkey\u001b[0m\u001b[0;34m.\u001b[0m\u001b[0mfileobj\u001b[0m \u001b[0;32mfor\u001b[0m \u001b[0;34m(\u001b[0m\u001b[0mkey\u001b[0m\u001b[0;34m,\u001b[0m \u001b[0mevents\u001b[0m\u001b[0;34m)\u001b[0m \u001b[0;32min\u001b[0m \u001b[0mready\u001b[0m\u001b[0;34m]\u001b[0m\u001b[0;34m\u001b[0m\u001b[0;34m\u001b[0m\u001b[0m\n",
            "\u001b[0;32m/opt/conda/lib/python3.7/selectors.py\u001b[0m in \u001b[0;36mselect\u001b[0;34m(self, timeout)\u001b[0m\n\u001b[1;32m    413\u001b[0m         \u001b[0mready\u001b[0m \u001b[0;34m=\u001b[0m \u001b[0;34m[\u001b[0m\u001b[0;34m]\u001b[0m\u001b[0;34m\u001b[0m\u001b[0;34m\u001b[0m\u001b[0m\n\u001b[1;32m    414\u001b[0m         \u001b[0;32mtry\u001b[0m\u001b[0;34m:\u001b[0m\u001b[0;34m\u001b[0m\u001b[0;34m\u001b[0m\u001b[0m\n\u001b[0;32m--> 415\u001b[0;31m             \u001b[0mfd_event_list\u001b[0m \u001b[0;34m=\u001b[0m \u001b[0mself\u001b[0m\u001b[0;34m.\u001b[0m\u001b[0m_selector\u001b[0m\u001b[0;34m.\u001b[0m\u001b[0mpoll\u001b[0m\u001b[0;34m(\u001b[0m\u001b[0mtimeout\u001b[0m\u001b[0;34m)\u001b[0m\u001b[0;34m\u001b[0m\u001b[0;34m\u001b[0m\u001b[0m\n\u001b[0m\u001b[1;32m    416\u001b[0m         \u001b[0;32mexcept\u001b[0m \u001b[0mInterruptedError\u001b[0m\u001b[0;34m:\u001b[0m\u001b[0;34m\u001b[0m\u001b[0;34m\u001b[0m\u001b[0m\n\u001b[1;32m    417\u001b[0m             \u001b[0;32mreturn\u001b[0m \u001b[0mready\u001b[0m\u001b[0;34m\u001b[0m\u001b[0;34m\u001b[0m\u001b[0m\n",
            "\u001b[0;31mKeyboardInterrupt\u001b[0m: "
          ],
          "ename": "KeyboardInterrupt",
          "evalue": "",
          "output_type": "error"
        }
      ]
    },
    {
      "cell_type": "markdown",
      "source": [
        "## ImageNet Pretrained model"
      ],
      "metadata": {
        "id": "dEfZAFFLCyAi"
      }
    },
    {
      "cell_type": "code",
      "source": [
        "!pip install segmentation_models_pytorch"
      ],
      "metadata": {
        "id": "o4y7ZQIrugGn"
      },
      "execution_count": null,
      "outputs": []
    },
    {
      "cell_type": "code",
      "source": [
        "\n",
        "import segmentation_models_pytorch as smp\n",
        "model = smp.DeepLabV3Plus('resnet50', classes=1, in_channels=12)\n",
        "\n",
        "\n",
        "from torch import nn\n",
        "model.train()\n",
        "model=model.to(device)\n",
        "n_epochs = 100\n",
        "trainLoss = []\n",
        "testLoss = []\n",
        "optimizer = torch.optim.Adam(model.parameters(),lr=1e-2,weight_decay=2e-5)\n",
        "for k in range(n_epochs):\n",
        "    train(k,model,trainLoss,trainLoader,optimizer)\n",
        "    b2 = test(model,testLoss,testLoader,device,batch_size)\n",
        "    if b2 < best_loss:\n",
        "        best_loss = b2\n",
        "        torch.save(model.state_dict(), './model'+str(k)+'.pt')"
      ],
      "metadata": {
        "id": "PgIvi5ijue7x"
      },
      "execution_count": null,
      "outputs": []
    },
    {
      "cell_type": "markdown",
      "source": [
        "## Brain segmentation pretrained models"
      ],
      "metadata": {
        "id": "opAl9HQ3xNBo"
      }
    },
    {
      "cell_type": "code",
      "source": [
        "import torch\n",
        "import torch.nn as nn\n",
        "model = torch.hub.load('mateuszbuda/brain-segmentation-pytorch', 'unet',\n",
        "    in_channels=3, out_channels=1, init_features=32,pretrained=True)\n"
      ],
      "metadata": {
        "execution": {
          "iopub.status.busy": "2023-03-24T17:21:04.560914Z",
          "iopub.execute_input": "2023-03-24T17:21:04.561463Z",
          "iopub.status.idle": "2023-03-24T17:21:04.916574Z",
          "shell.execute_reply.started": "2023-03-24T17:21:04.561423Z",
          "shell.execute_reply": "2023-03-24T17:21:04.915269Z"
        },
        "trusted": true,
        "id": "2AkF3wx3CyAj",
        "outputId": "6c8f023a-181e-45a4-e9e5-d21df57f523e"
      },
      "execution_count": null,
      "outputs": [
        {
          "name": "stderr",
          "text": "Using cache found in /root/.cache/torch/hub/mateuszbuda_brain-segmentation-pytorch_master\n",
          "output_type": "stream"
        }
      ]
    },
    {
      "cell_type": "code",
      "source": [
        "model"
      ],
      "metadata": {
        "execution": {
          "iopub.status.busy": "2023-03-24T17:21:13.414849Z",
          "iopub.execute_input": "2023-03-24T17:21:13.415487Z",
          "iopub.status.idle": "2023-03-24T17:21:13.424398Z",
          "shell.execute_reply.started": "2023-03-24T17:21:13.415440Z",
          "shell.execute_reply": "2023-03-24T17:21:13.423018Z"
        },
        "trusted": true,
        "id": "W9l7cUpPCyAj",
        "outputId": "19a05e05-7bc0-4263-c639-65fa28a6dfed"
      },
      "execution_count": null,
      "outputs": [
        {
          "execution_count": 82,
          "output_type": "execute_result",
          "data": {
            "text/plain": "UNet(\n  (encoder1): Sequential(\n    (enc1conv1): Conv2d(3, 32, kernel_size=(3, 3), stride=(1, 1), padding=(1, 1), bias=False)\n    (enc1norm1): BatchNorm2d(32, eps=1e-05, momentum=0.1, affine=True, track_running_stats=True)\n    (enc1relu1): ReLU(inplace=True)\n    (enc1conv2): Conv2d(32, 32, kernel_size=(3, 3), stride=(1, 1), padding=(1, 1), bias=False)\n    (enc1norm2): BatchNorm2d(32, eps=1e-05, momentum=0.1, affine=True, track_running_stats=True)\n    (enc1relu2): ReLU(inplace=True)\n  )\n  (pool1): MaxPool2d(kernel_size=2, stride=2, padding=0, dilation=1, ceil_mode=False)\n  (encoder2): Sequential(\n    (enc2conv1): Conv2d(32, 64, kernel_size=(3, 3), stride=(1, 1), padding=(1, 1), bias=False)\n    (enc2norm1): BatchNorm2d(64, eps=1e-05, momentum=0.1, affine=True, track_running_stats=True)\n    (enc2relu1): ReLU(inplace=True)\n    (enc2conv2): Conv2d(64, 64, kernel_size=(3, 3), stride=(1, 1), padding=(1, 1), bias=False)\n    (enc2norm2): BatchNorm2d(64, eps=1e-05, momentum=0.1, affine=True, track_running_stats=True)\n    (enc2relu2): ReLU(inplace=True)\n  )\n  (pool2): MaxPool2d(kernel_size=2, stride=2, padding=0, dilation=1, ceil_mode=False)\n  (encoder3): Sequential(\n    (enc3conv1): Conv2d(64, 128, kernel_size=(3, 3), stride=(1, 1), padding=(1, 1), bias=False)\n    (enc3norm1): BatchNorm2d(128, eps=1e-05, momentum=0.1, affine=True, track_running_stats=True)\n    (enc3relu1): ReLU(inplace=True)\n    (enc3conv2): Conv2d(128, 128, kernel_size=(3, 3), stride=(1, 1), padding=(1, 1), bias=False)\n    (enc3norm2): BatchNorm2d(128, eps=1e-05, momentum=0.1, affine=True, track_running_stats=True)\n    (enc3relu2): ReLU(inplace=True)\n  )\n  (pool3): MaxPool2d(kernel_size=2, stride=2, padding=0, dilation=1, ceil_mode=False)\n  (encoder4): Sequential(\n    (enc4conv1): Conv2d(128, 256, kernel_size=(3, 3), stride=(1, 1), padding=(1, 1), bias=False)\n    (enc4norm1): BatchNorm2d(256, eps=1e-05, momentum=0.1, affine=True, track_running_stats=True)\n    (enc4relu1): ReLU(inplace=True)\n    (enc4conv2): Conv2d(256, 256, kernel_size=(3, 3), stride=(1, 1), padding=(1, 1), bias=False)\n    (enc4norm2): BatchNorm2d(256, eps=1e-05, momentum=0.1, affine=True, track_running_stats=True)\n    (enc4relu2): ReLU(inplace=True)\n  )\n  (pool4): MaxPool2d(kernel_size=2, stride=2, padding=0, dilation=1, ceil_mode=False)\n  (bottleneck): Sequential(\n    (bottleneckconv1): Conv2d(256, 512, kernel_size=(3, 3), stride=(1, 1), padding=(1, 1), bias=False)\n    (bottlenecknorm1): BatchNorm2d(512, eps=1e-05, momentum=0.1, affine=True, track_running_stats=True)\n    (bottleneckrelu1): ReLU(inplace=True)\n    (bottleneckconv2): Conv2d(512, 512, kernel_size=(3, 3), stride=(1, 1), padding=(1, 1), bias=False)\n    (bottlenecknorm2): BatchNorm2d(512, eps=1e-05, momentum=0.1, affine=True, track_running_stats=True)\n    (bottleneckrelu2): ReLU(inplace=True)\n  )\n  (upconv4): ConvTranspose2d(512, 256, kernel_size=(2, 2), stride=(2, 2))\n  (decoder4): Sequential(\n    (dec4conv1): Conv2d(512, 256, kernel_size=(3, 3), stride=(1, 1), padding=(1, 1), bias=False)\n    (dec4norm1): BatchNorm2d(256, eps=1e-05, momentum=0.1, affine=True, track_running_stats=True)\n    (dec4relu1): ReLU(inplace=True)\n    (dec4conv2): Conv2d(256, 256, kernel_size=(3, 3), stride=(1, 1), padding=(1, 1), bias=False)\n    (dec4norm2): BatchNorm2d(256, eps=1e-05, momentum=0.1, affine=True, track_running_stats=True)\n    (dec4relu2): ReLU(inplace=True)\n  )\n  (upconv3): ConvTranspose2d(256, 128, kernel_size=(2, 2), stride=(2, 2))\n  (decoder3): Sequential(\n    (dec3conv1): Conv2d(256, 128, kernel_size=(3, 3), stride=(1, 1), padding=(1, 1), bias=False)\n    (dec3norm1): BatchNorm2d(128, eps=1e-05, momentum=0.1, affine=True, track_running_stats=True)\n    (dec3relu1): ReLU(inplace=True)\n    (dec3conv2): Conv2d(128, 128, kernel_size=(3, 3), stride=(1, 1), padding=(1, 1), bias=False)\n    (dec3norm2): BatchNorm2d(128, eps=1e-05, momentum=0.1, affine=True, track_running_stats=True)\n    (dec3relu2): ReLU(inplace=True)\n  )\n  (upconv2): ConvTranspose2d(128, 64, kernel_size=(2, 2), stride=(2, 2))\n  (decoder2): Sequential(\n    (dec2conv1): Conv2d(128, 64, kernel_size=(3, 3), stride=(1, 1), padding=(1, 1), bias=False)\n    (dec2norm1): BatchNorm2d(64, eps=1e-05, momentum=0.1, affine=True, track_running_stats=True)\n    (dec2relu1): ReLU(inplace=True)\n    (dec2conv2): Conv2d(64, 64, kernel_size=(3, 3), stride=(1, 1), padding=(1, 1), bias=False)\n    (dec2norm2): BatchNorm2d(64, eps=1e-05, momentum=0.1, affine=True, track_running_stats=True)\n    (dec2relu2): ReLU(inplace=True)\n  )\n  (upconv1): ConvTranspose2d(64, 32, kernel_size=(2, 2), stride=(2, 2))\n  (decoder1): Sequential(\n    (dec1conv1): Conv2d(64, 32, kernel_size=(3, 3), stride=(1, 1), padding=(1, 1), bias=False)\n    (dec1norm1): BatchNorm2d(32, eps=1e-05, momentum=0.1, affine=True, track_running_stats=True)\n    (dec1relu1): ReLU(inplace=True)\n    (dec1conv2): Conv2d(32, 32, kernel_size=(3, 3), stride=(1, 1), padding=(1, 1), bias=False)\n    (dec1norm2): BatchNorm2d(32, eps=1e-05, momentum=0.1, affine=True, track_running_stats=True)\n    (dec1relu2): ReLU(inplace=True)\n  )\n  (conv): Conv2d(32, 1, kernel_size=(1, 1), stride=(1, 1))\n)"
          },
          "metadata": {}
        }
      ]
    },
    {
      "cell_type": "code",
      "source": [
        "#We define a new forward to not have the sigmoid in it\n",
        "def new_forward(self, x):\n",
        "    enc1 = self.encoder1(x)\n",
        "    enc2 = self.encoder2(self.pool1(enc1))\n",
        "    enc3 = self.encoder3(self.pool2(enc2))\n",
        "    enc4 = self.encoder4(self.pool3(enc3))\n",
        "\n",
        "    bottleneck = self.bottleneck(self.pool4(enc4))\n",
        "\n",
        "    dec4 = self.upconv4(bottleneck)\n",
        "\n",
        "    dec4 = torch.cat((dec4, enc4), dim=1)\n",
        "    dec4 = self.decoder4(dec4)\n",
        "    dec3 = self.upconv3(dec4)\n",
        "    dec3 = torch.cat((dec3, enc3), dim=1)\n",
        "    dec3 = self.decoder3(dec3)\n",
        "    dec2 = self.upconv2(dec3)\n",
        "    dec2 = torch.cat((dec2, enc2), dim=1)\n",
        "    dec2 = self.decoder2(dec2)\n",
        "    dec1 = self.upconv1(dec2)\n",
        "    dec1 = torch.cat((dec1, enc1), dim=1)\n",
        "    dec1 = self.decoder1(dec1)\n",
        "    return self.conv(dec1)\n",
        "\n",
        "\n",
        "bound_method = new_forward.__get__(model, model.__class__)\n",
        "setattr(model, 'forward', bound_method)\n"
      ],
      "metadata": {
        "execution": {
          "iopub.status.busy": "2023-03-24T15:53:20.840574Z",
          "iopub.execute_input": "2023-03-24T15:53:20.840956Z",
          "iopub.status.idle": "2023-03-24T15:53:20.854407Z",
          "shell.execute_reply.started": "2023-03-24T15:53:20.840920Z",
          "shell.execute_reply": "2023-03-24T15:53:20.853370Z"
        },
        "trusted": true,
        "id": "8tCzSoYyCyAj"
      },
      "execution_count": null,
      "outputs": []
    },
    {
      "cell_type": "code",
      "source": [
        "model.encoder1.enc1conv1 = torch.nn.Conv2d(12, 36,kernel_size=(3,3),groups = 12,padding='same')\n",
        "model.encoder1.enc1norm1 = torch.nn.BatchNorm2d(36)\n",
        "model.encoder1.enc1conv2 = torch.nn.Conv2d(36, 32,kernel_size=(3,3),padding='same')\n",
        "\n",
        "\n",
        "model.decoder1.dec1conv1 = torch.nn.Conv2d(64, 36,kernel_size=(3,3),padding='same')\n",
        "model.decoder1.dec1norm1 =  torch.nn.BatchNorm2d(36)\n",
        "model.decoder1.dec1conv2 = torch.nn.Conv2d(36, 32,kernel_size=(3,3),padding='same')\n"
      ],
      "metadata": {
        "execution": {
          "iopub.status.busy": "2023-03-24T15:53:45.711329Z",
          "iopub.execute_input": "2023-03-24T15:53:45.711717Z",
          "iopub.status.idle": "2023-03-24T15:53:45.722292Z",
          "shell.execute_reply.started": "2023-03-24T15:53:45.711680Z",
          "shell.execute_reply": "2023-03-24T15:53:45.721253Z"
        },
        "trusted": true,
        "id": "xwFeBG10CyAk"
      },
      "execution_count": null,
      "outputs": []
    },
    {
      "cell_type": "code",
      "source": [
        "for param in model.parameters():\n",
        "    param.requires_grad = False\n",
        "\n",
        "for param in model.encoder1.parameters():\n",
        "    param.requires_grad = True\n",
        "\n",
        "for param in model.decoder1.parameters():\n",
        "    param.requires_grad = True"
      ],
      "metadata": {
        "execution": {
          "iopub.status.busy": "2023-03-23T14:18:01.350230Z",
          "iopub.execute_input": "2023-03-23T14:18:01.350968Z",
          "iopub.status.idle": "2023-03-23T14:18:01.357350Z",
          "shell.execute_reply.started": "2023-03-23T14:18:01.350924Z",
          "shell.execute_reply": "2023-03-23T14:18:01.356216Z"
        },
        "trusted": true,
        "id": "va5eYxBqCyAk"
      },
      "execution_count": null,
      "outputs": []
    },
    {
      "cell_type": "code",
      "source": [
        "import numpy as np\n",
        "device = 'cuda' if torch.cuda.is_available() else 'cpu'\n",
        "print(device)\n",
        "best_loss = float('inf')\n",
        "optimizer = torch.optim.Adam(model.parameters(),lr=3e-4,weight_decay=2e-5)\n",
        "\n",
        "model.train()\n",
        "model=model.to(device)\n",
        "n_epochs = 35\n",
        "trainLoss = []\n",
        "testLoss = []\n",
        "for k in range(n_epochs):\n",
        "    train(k,model,trainLoss,trainLoader,optimizer)\n",
        "    b2 = test(model,testLoss,valLoader,device,batch_size)\n",
        "    if b2 < best_loss:\n",
        "        best_loss = b2\n",
        "        torch.save(model.state_dict(), './model'+str(k)+'.pt')\n",
        "    if k == 5:\n",
        "        for param in model.parameters():\n",
        "          param.requires_grad = False\n"
      ],
      "metadata": {
        "execution": {
          "iopub.status.busy": "2023-03-23T13:41:17.256876Z",
          "iopub.execute_input": "2023-03-23T13:41:17.257257Z",
          "iopub.status.idle": "2023-03-23T14:08:03.423312Z",
          "shell.execute_reply.started": "2023-03-23T13:41:17.257222Z",
          "shell.execute_reply": "2023-03-23T14:08:03.419389Z"
        },
        "trusted": true,
        "id": "aHf3avGqCyAk"
      },
      "execution_count": null,
      "outputs": []
    },
    {
      "cell_type": "markdown",
      "source": [
        "# Training from scratch"
      ],
      "metadata": {
        "id": "pz052rWdyNcQ"
      }
    },
    {
      "cell_type": "code",
      "source": [
        "import torch\n",
        "import torch.nn as nn\n",
        "model = torch.hub.load('mateuszbuda/brain-segmentation-pytorch', 'unet',\n",
        "    in_channels=3, out_channels=1, init_features=32,pretrained=True)\n"
      ],
      "metadata": {
        "execution": {
          "iopub.status.busy": "2023-03-24T17:21:04.560914Z",
          "iopub.execute_input": "2023-03-24T17:21:04.561463Z",
          "iopub.status.idle": "2023-03-24T17:21:04.916574Z",
          "shell.execute_reply.started": "2023-03-24T17:21:04.561423Z",
          "shell.execute_reply": "2023-03-24T17:21:04.915269Z"
        },
        "trusted": true,
        "outputId": "6c8f023a-181e-45a4-e9e5-d21df57f523e",
        "id": "tBt8MUzFyu0U"
      },
      "execution_count": null,
      "outputs": [
        {
          "name": "stderr",
          "text": "Using cache found in /root/.cache/torch/hub/mateuszbuda_brain-segmentation-pytorch_master\n",
          "output_type": "stream"
        }
      ]
    },
    {
      "cell_type": "code",
      "source": [
        "#We define a new forward to not have the sigmoid in it\n",
        "def new_forward(self, x):\n",
        "    enc1 = self.encoder1(x)\n",
        "    enc2 = self.encoder2(self.pool1(enc1))\n",
        "    enc3 = self.encoder3(self.pool2(enc2))\n",
        "    enc4 = self.encoder4(self.pool3(enc3))\n",
        "\n",
        "    bottleneck = self.bottleneck(self.pool4(enc4))\n",
        "\n",
        "    dec4 = self.upconv4(bottleneck)\n",
        "\n",
        "    dec4 = torch.cat((dec4, enc4), dim=1)\n",
        "    dec4 = self.decoder4(dec4)\n",
        "    dec3 = self.upconv3(dec4)\n",
        "    dec3 = torch.cat((dec3, enc3), dim=1)\n",
        "    dec3 = self.decoder3(dec3)\n",
        "    dec2 = self.upconv2(dec3)\n",
        "    dec2 = torch.cat((dec2, enc2), dim=1)\n",
        "    dec2 = self.decoder2(dec2)\n",
        "    dec1 = self.upconv1(dec2)\n",
        "    dec1 = torch.cat((dec1, enc1), dim=1)\n",
        "    dec1 = self.decoder1(dec1)\n",
        "    return self.conv(dec1)\n",
        "\n",
        "\n",
        "bound_method = new_forward.__get__(model, model.__class__)\n",
        "setattr(model, 'forward', bound_method)\n"
      ],
      "metadata": {
        "execution": {
          "iopub.status.busy": "2023-03-24T15:53:20.840574Z",
          "iopub.execute_input": "2023-03-24T15:53:20.840956Z",
          "iopub.status.idle": "2023-03-24T15:53:20.854407Z",
          "shell.execute_reply.started": "2023-03-24T15:53:20.840920Z",
          "shell.execute_reply": "2023-03-24T15:53:20.853370Z"
        },
        "trusted": true,
        "id": "r7rNm238yw1Y"
      },
      "execution_count": null,
      "outputs": []
    },
    {
      "cell_type": "code",
      "source": [
        "model.encoder1.enc1conv1 = torch.nn.Conv2d(12, 36,kernel_size=(3,3),groups = 12,padding='same')\n",
        "model.encoder1.enc1norm1 = torch.nn.BatchNorm2d(36)\n",
        "model.encoder1.enc1conv2 = torch.nn.Conv2d(36, 32,kernel_size=(3,3),padding='same')\n",
        "\n",
        "\n",
        "model.decoder1.dec1conv1 = torch.nn.Conv2d(64, 36,kernel_size=(3,3),padding='same')\n",
        "model.decoder1.dec1norm1 =  torch.nn.BatchNorm2d(36)\n",
        "model.decoder1.dec1conv2 = torch.nn.Conv2d(36, 32,kernel_size=(3,3),padding='same')\n"
      ],
      "metadata": {
        "execution": {
          "iopub.status.busy": "2023-03-24T15:53:45.711329Z",
          "iopub.execute_input": "2023-03-24T15:53:45.711717Z",
          "iopub.status.idle": "2023-03-24T15:53:45.722292Z",
          "shell.execute_reply.started": "2023-03-24T15:53:45.711680Z",
          "shell.execute_reply": "2023-03-24T15:53:45.721253Z"
        },
        "trusted": true,
        "id": "1gOv2UqJyz7G"
      },
      "execution_count": null,
      "outputs": []
    },
    {
      "cell_type": "code",
      "source": [
        "import numpy as np\n",
        "import random\n",
        "device = 'cuda' if torch.cuda.is_available() else 'cpu'\n",
        "print(device)\n",
        "best_loss = float('inf')\n",
        "optimizer = torch.optim.AdamW(model.parameters(),lr=2e-4,weight_decay=1e-4)\n",
        "\n",
        "model.train()\n",
        "model=model.to(device)\n",
        "n_epochs = 35\n",
        "trainLoss = []\n",
        "testLoss = []\n",
        "for k in range(n_epochs):\n",
        "    train(k,model,trainLoss,trainLoader,optimizer)\n",
        "    b2 = test(model,testLoss,valLoader,device,batch_size)\n",
        "    if b2 < best_loss:\n",
        "        best_loss = b2\n",
        "        torch.save(model.state_dict(), './model'+str(k)+'.pt')\n"
      ],
      "metadata": {
        "execution": {
          "iopub.status.busy": "2023-03-24T15:53:59.570099Z",
          "iopub.execute_input": "2023-03-24T15:53:59.571049Z",
          "iopub.status.idle": "2023-03-24T16:50:50.110813Z",
          "shell.execute_reply.started": "2023-03-24T15:53:59.571010Z",
          "shell.execute_reply": "2023-03-24T16:50:50.105469Z"
        },
        "trusted": true,
        "id": "98ur6BuLCyAk",
        "outputId": "31fc4f2e-3aae-4950-dc4f-37eccc90301f"
      },
      "execution_count": null,
      "outputs": [
        {
          "name": "stdout",
          "text": "cuda\n",
          "output_type": "stream"
        },
        {
          "name": "stderr",
          "text": "Exception ignored in: <function _MultiProcessingDataLoaderIter.__del__ at 0x7f086a7fd8c0>\nTraceback (most recent call last):\n  File \"/opt/conda/lib/python3.7/site-packages/torch/utils/data/dataloader.py\", line 1466, in __del__\n    self._shutdown_workers()\n  File \"/opt/conda/lib/python3.7/site-packages/torch/utils/data/dataloader.py\", line 1449, in _shutdown_workers\n    if w.is_alive():\n  File \"/opt/conda/lib/python3.7/multiprocessing/process.py\", line 151, in is_alive\n    assert self._parent_pid == os.getpid(), 'can only test a child process'\nAssertionError: can only test a child process\n",
          "output_type": "stream"
        },
        {
          "name": "stdout",
          "text": "Train Epoch: 0 [0/7800 (0%)]\tLoss: 2.968388\nTrain Epoch: 0 [3200/7800 (41%)]\tLoss: 2.198259\nTrain Epoch: 0 [6400/7800 (82%)]\tLoss: 2.349297\nMean loss of the epoch:  2.3748356985156462\n",
          "output_type": "stream"
        },
        {
          "name": "stderr",
          "text": "Exception ignored in: <function _MultiProcessingDataLoaderIter.__del__ at 0x7f086a7fd8c0>\nTraceback (most recent call last):\n  File \"/opt/conda/lib/python3.7/site-packages/torch/utils/data/dataloader.py\", line 1466, in __del__\n    self._shutdown_workers()\n  File \"/opt/conda/lib/python3.7/site-packages/torch/utils/data/dataloader.py\", line 1449, in _shutdown_workers\n    if w.is_alive():\n  File \"/opt/conda/lib/python3.7/multiprocessing/process.py\", line 151, in is_alive\n    assert self._parent_pid == os.getpid(), 'can only test a child process'\nAssertionError: can only test a child process\n",
          "output_type": "stream"
        },
        {
          "name": "stdout",
          "text": "\nTest set: Average loss: 2.0870\n\nTrain Epoch: 1 [0/7800 (0%)]\tLoss: 2.644021\nTrain Epoch: 1 [3200/7800 (41%)]\tLoss: 1.971743\nTrain Epoch: 1 [6400/7800 (82%)]\tLoss: 1.936213\nMean loss of the epoch:  2.0392513751041683\n\nTest set: Average loss: 1.9865\n\nTrain Epoch: 2 [0/7800 (0%)]\tLoss: 1.879202\nTrain Epoch: 2 [3200/7800 (41%)]\tLoss: 1.484448\nTrain Epoch: 2 [6400/7800 (82%)]\tLoss: 1.422986\nMean loss of the epoch:  1.7073008115310222\n\nTest set: Average loss: 1.5672\n\nTrain Epoch: 3 [0/7800 (0%)]\tLoss: 1.344557\nTrain Epoch: 3 [3200/7800 (41%)]\tLoss: 1.396452\nTrain Epoch: 3 [6400/7800 (82%)]\tLoss: 1.482971\nMean loss of the epoch:  1.3657783982167389\n\nTest set: Average loss: 1.0515\n\nTrain Epoch: 4 [0/7800 (0%)]\tLoss: 1.455244\nTrain Epoch: 4 [3200/7800 (41%)]\tLoss: 1.148333\nTrain Epoch: 4 [6400/7800 (82%)]\tLoss: 0.958011\nMean loss of the epoch:  1.027883668844896\n\nTest set: Average loss: 0.8548\n\nTrain Epoch: 5 [0/7800 (0%)]\tLoss: 0.793739\nTrain Epoch: 5 [3200/7800 (41%)]\tLoss: 0.425741\nTrain Epoch: 5 [6400/7800 (82%)]\tLoss: 0.708825\nMean loss of the epoch:  0.7009699119633401\n\nTest set: Average loss: 0.6192\n\nTrain Epoch: 6 [0/7800 (0%)]\tLoss: 0.499309\nTrain Epoch: 6 [3200/7800 (41%)]\tLoss: 0.453006\nTrain Epoch: 6 [6400/7800 (82%)]\tLoss: 0.400832\nMean loss of the epoch:  0.470213882838185\n\nTest set: Average loss: 0.4708\n\nTrain Epoch: 7 [0/7800 (0%)]\tLoss: 0.368659\nTrain Epoch: 7 [3200/7800 (41%)]\tLoss: 0.469662\nTrain Epoch: 7 [6400/7800 (82%)]\tLoss: 0.361389\nMean loss of the epoch:  0.387510300398422\n\nTest set: Average loss: 0.4590\n\nTrain Epoch: 8 [0/7800 (0%)]\tLoss: 0.292947\nTrain Epoch: 8 [3200/7800 (41%)]\tLoss: 0.396399\nTrain Epoch: 8 [6400/7800 (82%)]\tLoss: 0.362954\nMean loss of the epoch:  0.3537996579549728\n\nTest set: Average loss: 0.4383\n\nTrain Epoch: 9 [0/7800 (0%)]\tLoss: 0.399106\nTrain Epoch: 9 [3200/7800 (41%)]\tLoss: 0.302203\nTrain Epoch: 9 [6400/7800 (82%)]\tLoss: 0.322551\nMean loss of the epoch:  0.3278886763379799\n\nTest set: Average loss: 0.4517\n\nTrain Epoch: 10 [0/7800 (0%)]\tLoss: 0.362511\nTrain Epoch: 10 [3200/7800 (41%)]\tLoss: 0.376118\nTrain Epoch: 10 [6400/7800 (82%)]\tLoss: 0.255388\nMean loss of the epoch:  0.30366916638756647\n\nTest set: Average loss: 0.4483\n\nTrain Epoch: 11 [0/7800 (0%)]\tLoss: 0.230643\nTrain Epoch: 11 [3200/7800 (41%)]\tLoss: 0.228631\nTrain Epoch: 11 [6400/7800 (82%)]\tLoss: 0.255916\nMean loss of the epoch:  0.2806154999091274\n\nTest set: Average loss: 0.4509\n\nTrain Epoch: 12 [0/7800 (0%)]\tLoss: 0.207952\nTrain Epoch: 12 [3200/7800 (41%)]\tLoss: 0.307343\nTrain Epoch: 12 [6400/7800 (82%)]\tLoss: 0.201521\nMean loss of the epoch:  0.2646128873064038\n\nTest set: Average loss: 0.4272\n\nTrain Epoch: 13 [0/7800 (0%)]\tLoss: 0.191015\nTrain Epoch: 13 [3200/7800 (41%)]\tLoss: 0.252065\nTrain Epoch: 13 [6400/7800 (82%)]\tLoss: 0.220442\nMean loss of the epoch:  0.2485124431987049\n\nTest set: Average loss: 0.4307\n\nTrain Epoch: 14 [0/7800 (0%)]\tLoss: 0.239139\nTrain Epoch: 14 [3200/7800 (41%)]\tLoss: 0.248765\nTrain Epoch: 14 [6400/7800 (82%)]\tLoss: 0.266456\nMean loss of the epoch:  0.23815603095680188\n\nTest set: Average loss: 0.4243\n\nTrain Epoch: 15 [0/7800 (0%)]\tLoss: 0.245410\nTrain Epoch: 15 [3200/7800 (41%)]\tLoss: 0.246243\nTrain Epoch: 15 [6400/7800 (82%)]\tLoss: 0.227902\nMean loss of the epoch:  0.23165325551751936\n\nTest set: Average loss: 0.4229\n\nTrain Epoch: 16 [0/7800 (0%)]\tLoss: 0.201529\nTrain Epoch: 16 [3200/7800 (41%)]\tLoss: 0.224031\nTrain Epoch: 16 [6400/7800 (82%)]\tLoss: 0.196219\nMean loss of the epoch:  0.21742284281496818\n\nTest set: Average loss: 0.4170\n\nTrain Epoch: 17 [0/7800 (0%)]\tLoss: 0.256079\nTrain Epoch: 17 [3200/7800 (41%)]\tLoss: 0.206392\nTrain Epoch: 17 [6400/7800 (82%)]\tLoss: 0.223569\nMean loss of the epoch:  0.20378367965255934\n\nTest set: Average loss: 0.4383\n\nTrain Epoch: 18 [0/7800 (0%)]\tLoss: 0.201385\nTrain Epoch: 18 [3200/7800 (41%)]\tLoss: 0.222752\nTrain Epoch: 18 [6400/7800 (82%)]\tLoss: 0.231837\nMean loss of the epoch:  0.19678852303669236\n\nTest set: Average loss: 0.4200\n\nTrain Epoch: 19 [0/7800 (0%)]\tLoss: 0.140385\n",
          "output_type": "stream"
        },
        {
          "traceback": [
            "\u001b[0;31m---------------------------------------------------------------------------\u001b[0m",
            "\u001b[0;31mKeyboardInterrupt\u001b[0m                         Traceback (most recent call last)",
            "\u001b[0;32m/tmp/ipykernel_23/1920107899.py\u001b[0m in \u001b[0;36m<module>\u001b[0;34m\u001b[0m\n\u001b[1;32m     12\u001b[0m \u001b[0mtestLoss\u001b[0m \u001b[0;34m=\u001b[0m \u001b[0;34m[\u001b[0m\u001b[0;34m]\u001b[0m\u001b[0;34m\u001b[0m\u001b[0;34m\u001b[0m\u001b[0m\n\u001b[1;32m     13\u001b[0m \u001b[0;32mfor\u001b[0m \u001b[0mk\u001b[0m \u001b[0;32min\u001b[0m \u001b[0mrange\u001b[0m\u001b[0;34m(\u001b[0m\u001b[0mn_epochs\u001b[0m\u001b[0;34m)\u001b[0m\u001b[0;34m:\u001b[0m\u001b[0;34m\u001b[0m\u001b[0;34m\u001b[0m\u001b[0m\n\u001b[0;32m---> 14\u001b[0;31m     \u001b[0mtrain\u001b[0m\u001b[0;34m(\u001b[0m\u001b[0mk\u001b[0m\u001b[0;34m,\u001b[0m\u001b[0mmodel\u001b[0m\u001b[0;34m,\u001b[0m\u001b[0mtrainLoss\u001b[0m\u001b[0;34m,\u001b[0m\u001b[0mtrainLoader\u001b[0m\u001b[0;34m,\u001b[0m\u001b[0moptimizer\u001b[0m\u001b[0;34m)\u001b[0m\u001b[0;34m\u001b[0m\u001b[0;34m\u001b[0m\u001b[0m\n\u001b[0m\u001b[1;32m     15\u001b[0m     \u001b[0mb2\u001b[0m \u001b[0;34m=\u001b[0m \u001b[0mtest\u001b[0m\u001b[0;34m(\u001b[0m\u001b[0mmodel\u001b[0m\u001b[0;34m,\u001b[0m\u001b[0mtestLoss\u001b[0m\u001b[0;34m,\u001b[0m\u001b[0mvalLoader\u001b[0m\u001b[0;34m,\u001b[0m\u001b[0mdevice\u001b[0m\u001b[0;34m,\u001b[0m\u001b[0mbatch_size\u001b[0m\u001b[0;34m)\u001b[0m\u001b[0;34m\u001b[0m\u001b[0;34m\u001b[0m\u001b[0m\n\u001b[1;32m     16\u001b[0m     \u001b[0;32mif\u001b[0m \u001b[0mb2\u001b[0m \u001b[0;34m<\u001b[0m \u001b[0mbest_loss\u001b[0m\u001b[0;34m:\u001b[0m\u001b[0;34m\u001b[0m\u001b[0;34m\u001b[0m\u001b[0m\n",
            "\u001b[0;32m/tmp/ipykernel_23/3821027123.py\u001b[0m in \u001b[0;36mtrain\u001b[0;34m(epoch, network, trainLoss, train_dataloader, optimizer)\u001b[0m\n\u001b[1;32m      2\u001b[0m     \u001b[0mnetwork\u001b[0m\u001b[0;34m.\u001b[0m\u001b[0mtrain\u001b[0m\u001b[0;34m(\u001b[0m\u001b[0;34m)\u001b[0m\u001b[0;34m\u001b[0m\u001b[0;34m\u001b[0m\u001b[0m\n\u001b[1;32m      3\u001b[0m     \u001b[0mlossEpoch\u001b[0m \u001b[0;34m=\u001b[0m \u001b[0;34m[\u001b[0m\u001b[0;34m]\u001b[0m\u001b[0;34m\u001b[0m\u001b[0;34m\u001b[0m\u001b[0m\n\u001b[0;32m----> 4\u001b[0;31m     \u001b[0;32mfor\u001b[0m \u001b[0mi\u001b[0m\u001b[0;34m,\u001b[0m\u001b[0;34m(\u001b[0m\u001b[0mbatch\u001b[0m\u001b[0;34m,\u001b[0m\u001b[0mmask\u001b[0m\u001b[0;34m,\u001b[0m\u001b[0mlabs\u001b[0m\u001b[0;34m)\u001b[0m \u001b[0;32min\u001b[0m \u001b[0menumerate\u001b[0m\u001b[0;34m(\u001b[0m\u001b[0mtrain_dataloader\u001b[0m\u001b[0;34m)\u001b[0m\u001b[0;34m:\u001b[0m\u001b[0;34m\u001b[0m\u001b[0;34m\u001b[0m\u001b[0m\n\u001b[0m\u001b[1;32m      5\u001b[0m         \u001b[0mbatch\u001b[0m \u001b[0;34m=\u001b[0m \u001b[0mbatch\u001b[0m\u001b[0;34m.\u001b[0m\u001b[0mpermute\u001b[0m\u001b[0;34m(\u001b[0m\u001b[0;36m0\u001b[0m\u001b[0;34m,\u001b[0m\u001b[0;36m2\u001b[0m\u001b[0;34m,\u001b[0m\u001b[0;36m1\u001b[0m\u001b[0;34m,\u001b[0m\u001b[0;36m3\u001b[0m\u001b[0;34m)\u001b[0m\u001b[0;34m\u001b[0m\u001b[0;34m\u001b[0m\u001b[0m\n\u001b[1;32m      6\u001b[0m \u001b[0;34m\u001b[0m\u001b[0m\n",
            "\u001b[0;32m/opt/conda/lib/python3.7/site-packages/torch/utils/data/dataloader.py\u001b[0m in \u001b[0;36m__next__\u001b[0;34m(self)\u001b[0m\n\u001b[1;32m    626\u001b[0m                 \u001b[0;31m# TODO(https://github.com/pytorch/pytorch/issues/76750)\u001b[0m\u001b[0;34m\u001b[0m\u001b[0;34m\u001b[0m\u001b[0;34m\u001b[0m\u001b[0m\n\u001b[1;32m    627\u001b[0m                 \u001b[0mself\u001b[0m\u001b[0;34m.\u001b[0m\u001b[0m_reset\u001b[0m\u001b[0;34m(\u001b[0m\u001b[0;34m)\u001b[0m  \u001b[0;31m# type: ignore[call-arg]\u001b[0m\u001b[0;34m\u001b[0m\u001b[0;34m\u001b[0m\u001b[0m\n\u001b[0;32m--> 628\u001b[0;31m             \u001b[0mdata\u001b[0m \u001b[0;34m=\u001b[0m \u001b[0mself\u001b[0m\u001b[0;34m.\u001b[0m\u001b[0m_next_data\u001b[0m\u001b[0;34m(\u001b[0m\u001b[0;34m)\u001b[0m\u001b[0;34m\u001b[0m\u001b[0;34m\u001b[0m\u001b[0m\n\u001b[0m\u001b[1;32m    629\u001b[0m             \u001b[0mself\u001b[0m\u001b[0;34m.\u001b[0m\u001b[0m_num_yielded\u001b[0m \u001b[0;34m+=\u001b[0m \u001b[0;36m1\u001b[0m\u001b[0;34m\u001b[0m\u001b[0;34m\u001b[0m\u001b[0m\n\u001b[1;32m    630\u001b[0m             \u001b[0;32mif\u001b[0m \u001b[0mself\u001b[0m\u001b[0;34m.\u001b[0m\u001b[0m_dataset_kind\u001b[0m \u001b[0;34m==\u001b[0m \u001b[0m_DatasetKind\u001b[0m\u001b[0;34m.\u001b[0m\u001b[0mIterable\u001b[0m \u001b[0;32mand\u001b[0m\u001b[0;31m \u001b[0m\u001b[0;31m\\\u001b[0m\u001b[0;34m\u001b[0m\u001b[0;34m\u001b[0m\u001b[0m\n",
            "\u001b[0;32m/opt/conda/lib/python3.7/site-packages/torch/utils/data/dataloader.py\u001b[0m in \u001b[0;36m_next_data\u001b[0;34m(self)\u001b[0m\n\u001b[1;32m   1314\u001b[0m \u001b[0;34m\u001b[0m\u001b[0m\n\u001b[1;32m   1315\u001b[0m             \u001b[0;32massert\u001b[0m \u001b[0;32mnot\u001b[0m \u001b[0mself\u001b[0m\u001b[0;34m.\u001b[0m\u001b[0m_shutdown\u001b[0m \u001b[0;32mand\u001b[0m \u001b[0mself\u001b[0m\u001b[0;34m.\u001b[0m\u001b[0m_tasks_outstanding\u001b[0m \u001b[0;34m>\u001b[0m \u001b[0;36m0\u001b[0m\u001b[0;34m\u001b[0m\u001b[0;34m\u001b[0m\u001b[0m\n\u001b[0;32m-> 1316\u001b[0;31m             \u001b[0midx\u001b[0m\u001b[0;34m,\u001b[0m \u001b[0mdata\u001b[0m \u001b[0;34m=\u001b[0m \u001b[0mself\u001b[0m\u001b[0;34m.\u001b[0m\u001b[0m_get_data\u001b[0m\u001b[0;34m(\u001b[0m\u001b[0;34m)\u001b[0m\u001b[0;34m\u001b[0m\u001b[0;34m\u001b[0m\u001b[0m\n\u001b[0m\u001b[1;32m   1317\u001b[0m             \u001b[0mself\u001b[0m\u001b[0;34m.\u001b[0m\u001b[0m_tasks_outstanding\u001b[0m \u001b[0;34m-=\u001b[0m \u001b[0;36m1\u001b[0m\u001b[0;34m\u001b[0m\u001b[0;34m\u001b[0m\u001b[0m\n\u001b[1;32m   1318\u001b[0m             \u001b[0;32mif\u001b[0m \u001b[0mself\u001b[0m\u001b[0;34m.\u001b[0m\u001b[0m_dataset_kind\u001b[0m \u001b[0;34m==\u001b[0m \u001b[0m_DatasetKind\u001b[0m\u001b[0;34m.\u001b[0m\u001b[0mIterable\u001b[0m\u001b[0;34m:\u001b[0m\u001b[0;34m\u001b[0m\u001b[0;34m\u001b[0m\u001b[0m\n",
            "\u001b[0;32m/opt/conda/lib/python3.7/site-packages/torch/utils/data/dataloader.py\u001b[0m in \u001b[0;36m_get_data\u001b[0;34m(self)\u001b[0m\n\u001b[1;32m   1280\u001b[0m         \u001b[0;32melse\u001b[0m\u001b[0;34m:\u001b[0m\u001b[0;34m\u001b[0m\u001b[0;34m\u001b[0m\u001b[0m\n\u001b[1;32m   1281\u001b[0m             \u001b[0;32mwhile\u001b[0m \u001b[0;32mTrue\u001b[0m\u001b[0;34m:\u001b[0m\u001b[0;34m\u001b[0m\u001b[0;34m\u001b[0m\u001b[0m\n\u001b[0;32m-> 1282\u001b[0;31m                 \u001b[0msuccess\u001b[0m\u001b[0;34m,\u001b[0m \u001b[0mdata\u001b[0m \u001b[0;34m=\u001b[0m \u001b[0mself\u001b[0m\u001b[0;34m.\u001b[0m\u001b[0m_try_get_data\u001b[0m\u001b[0;34m(\u001b[0m\u001b[0;34m)\u001b[0m\u001b[0;34m\u001b[0m\u001b[0;34m\u001b[0m\u001b[0m\n\u001b[0m\u001b[1;32m   1283\u001b[0m                 \u001b[0;32mif\u001b[0m \u001b[0msuccess\u001b[0m\u001b[0;34m:\u001b[0m\u001b[0;34m\u001b[0m\u001b[0;34m\u001b[0m\u001b[0m\n\u001b[1;32m   1284\u001b[0m                     \u001b[0;32mreturn\u001b[0m \u001b[0mdata\u001b[0m\u001b[0;34m\u001b[0m\u001b[0;34m\u001b[0m\u001b[0m\n",
            "\u001b[0;32m/opt/conda/lib/python3.7/site-packages/torch/utils/data/dataloader.py\u001b[0m in \u001b[0;36m_try_get_data\u001b[0;34m(self, timeout)\u001b[0m\n\u001b[1;32m   1118\u001b[0m         \u001b[0;31m#   (bool: whether successfully get data, any: data if successful else None)\u001b[0m\u001b[0;34m\u001b[0m\u001b[0;34m\u001b[0m\u001b[0;34m\u001b[0m\u001b[0m\n\u001b[1;32m   1119\u001b[0m         \u001b[0;32mtry\u001b[0m\u001b[0;34m:\u001b[0m\u001b[0;34m\u001b[0m\u001b[0;34m\u001b[0m\u001b[0m\n\u001b[0;32m-> 1120\u001b[0;31m             \u001b[0mdata\u001b[0m \u001b[0;34m=\u001b[0m \u001b[0mself\u001b[0m\u001b[0;34m.\u001b[0m\u001b[0m_data_queue\u001b[0m\u001b[0;34m.\u001b[0m\u001b[0mget\u001b[0m\u001b[0;34m(\u001b[0m\u001b[0mtimeout\u001b[0m\u001b[0;34m=\u001b[0m\u001b[0mtimeout\u001b[0m\u001b[0;34m)\u001b[0m\u001b[0;34m\u001b[0m\u001b[0;34m\u001b[0m\u001b[0m\n\u001b[0m\u001b[1;32m   1121\u001b[0m             \u001b[0;32mreturn\u001b[0m \u001b[0;34m(\u001b[0m\u001b[0;32mTrue\u001b[0m\u001b[0;34m,\u001b[0m \u001b[0mdata\u001b[0m\u001b[0;34m)\u001b[0m\u001b[0;34m\u001b[0m\u001b[0;34m\u001b[0m\u001b[0m\n\u001b[1;32m   1122\u001b[0m         \u001b[0;32mexcept\u001b[0m \u001b[0mException\u001b[0m \u001b[0;32mas\u001b[0m \u001b[0me\u001b[0m\u001b[0;34m:\u001b[0m\u001b[0;34m\u001b[0m\u001b[0;34m\u001b[0m\u001b[0m\n",
            "\u001b[0;32m/opt/conda/lib/python3.7/multiprocessing/queues.py\u001b[0m in \u001b[0;36mget\u001b[0;34m(self, block, timeout)\u001b[0m\n\u001b[1;32m    102\u001b[0m                 \u001b[0;32mif\u001b[0m \u001b[0mblock\u001b[0m\u001b[0;34m:\u001b[0m\u001b[0;34m\u001b[0m\u001b[0;34m\u001b[0m\u001b[0m\n\u001b[1;32m    103\u001b[0m                     \u001b[0mtimeout\u001b[0m \u001b[0;34m=\u001b[0m \u001b[0mdeadline\u001b[0m \u001b[0;34m-\u001b[0m \u001b[0mtime\u001b[0m\u001b[0;34m.\u001b[0m\u001b[0mmonotonic\u001b[0m\u001b[0;34m(\u001b[0m\u001b[0;34m)\u001b[0m\u001b[0;34m\u001b[0m\u001b[0;34m\u001b[0m\u001b[0m\n\u001b[0;32m--> 104\u001b[0;31m                     \u001b[0;32mif\u001b[0m \u001b[0;32mnot\u001b[0m \u001b[0mself\u001b[0m\u001b[0;34m.\u001b[0m\u001b[0m_poll\u001b[0m\u001b[0;34m(\u001b[0m\u001b[0mtimeout\u001b[0m\u001b[0;34m)\u001b[0m\u001b[0;34m:\u001b[0m\u001b[0;34m\u001b[0m\u001b[0;34m\u001b[0m\u001b[0m\n\u001b[0m\u001b[1;32m    105\u001b[0m                         \u001b[0;32mraise\u001b[0m \u001b[0mEmpty\u001b[0m\u001b[0;34m\u001b[0m\u001b[0;34m\u001b[0m\u001b[0m\n\u001b[1;32m    106\u001b[0m                 \u001b[0;32melif\u001b[0m \u001b[0;32mnot\u001b[0m \u001b[0mself\u001b[0m\u001b[0;34m.\u001b[0m\u001b[0m_poll\u001b[0m\u001b[0;34m(\u001b[0m\u001b[0;34m)\u001b[0m\u001b[0;34m:\u001b[0m\u001b[0;34m\u001b[0m\u001b[0;34m\u001b[0m\u001b[0m\n",
            "\u001b[0;32m/opt/conda/lib/python3.7/multiprocessing/connection.py\u001b[0m in \u001b[0;36mpoll\u001b[0;34m(self, timeout)\u001b[0m\n\u001b[1;32m    255\u001b[0m         \u001b[0mself\u001b[0m\u001b[0;34m.\u001b[0m\u001b[0m_check_closed\u001b[0m\u001b[0;34m(\u001b[0m\u001b[0;34m)\u001b[0m\u001b[0;34m\u001b[0m\u001b[0;34m\u001b[0m\u001b[0m\n\u001b[1;32m    256\u001b[0m         \u001b[0mself\u001b[0m\u001b[0;34m.\u001b[0m\u001b[0m_check_readable\u001b[0m\u001b[0;34m(\u001b[0m\u001b[0;34m)\u001b[0m\u001b[0;34m\u001b[0m\u001b[0;34m\u001b[0m\u001b[0m\n\u001b[0;32m--> 257\u001b[0;31m         \u001b[0;32mreturn\u001b[0m \u001b[0mself\u001b[0m\u001b[0;34m.\u001b[0m\u001b[0m_poll\u001b[0m\u001b[0;34m(\u001b[0m\u001b[0mtimeout\u001b[0m\u001b[0;34m)\u001b[0m\u001b[0;34m\u001b[0m\u001b[0;34m\u001b[0m\u001b[0m\n\u001b[0m\u001b[1;32m    258\u001b[0m \u001b[0;34m\u001b[0m\u001b[0m\n\u001b[1;32m    259\u001b[0m     \u001b[0;32mdef\u001b[0m \u001b[0m__enter__\u001b[0m\u001b[0;34m(\u001b[0m\u001b[0mself\u001b[0m\u001b[0;34m)\u001b[0m\u001b[0;34m:\u001b[0m\u001b[0;34m\u001b[0m\u001b[0;34m\u001b[0m\u001b[0m\n",
            "\u001b[0;32m/opt/conda/lib/python3.7/multiprocessing/connection.py\u001b[0m in \u001b[0;36m_poll\u001b[0;34m(self, timeout)\u001b[0m\n\u001b[1;32m    412\u001b[0m \u001b[0;34m\u001b[0m\u001b[0m\n\u001b[1;32m    413\u001b[0m     \u001b[0;32mdef\u001b[0m \u001b[0m_poll\u001b[0m\u001b[0;34m(\u001b[0m\u001b[0mself\u001b[0m\u001b[0;34m,\u001b[0m \u001b[0mtimeout\u001b[0m\u001b[0;34m)\u001b[0m\u001b[0;34m:\u001b[0m\u001b[0;34m\u001b[0m\u001b[0;34m\u001b[0m\u001b[0m\n\u001b[0;32m--> 414\u001b[0;31m         \u001b[0mr\u001b[0m \u001b[0;34m=\u001b[0m \u001b[0mwait\u001b[0m\u001b[0;34m(\u001b[0m\u001b[0;34m[\u001b[0m\u001b[0mself\u001b[0m\u001b[0;34m]\u001b[0m\u001b[0;34m,\u001b[0m \u001b[0mtimeout\u001b[0m\u001b[0;34m)\u001b[0m\u001b[0;34m\u001b[0m\u001b[0;34m\u001b[0m\u001b[0m\n\u001b[0m\u001b[1;32m    415\u001b[0m         \u001b[0;32mreturn\u001b[0m \u001b[0mbool\u001b[0m\u001b[0;34m(\u001b[0m\u001b[0mr\u001b[0m\u001b[0;34m)\u001b[0m\u001b[0;34m\u001b[0m\u001b[0;34m\u001b[0m\u001b[0m\n\u001b[1;32m    416\u001b[0m \u001b[0;34m\u001b[0m\u001b[0m\n",
            "\u001b[0;32m/opt/conda/lib/python3.7/multiprocessing/connection.py\u001b[0m in \u001b[0;36mwait\u001b[0;34m(object_list, timeout)\u001b[0m\n\u001b[1;32m    919\u001b[0m \u001b[0;34m\u001b[0m\u001b[0m\n\u001b[1;32m    920\u001b[0m             \u001b[0;32mwhile\u001b[0m \u001b[0;32mTrue\u001b[0m\u001b[0;34m:\u001b[0m\u001b[0;34m\u001b[0m\u001b[0;34m\u001b[0m\u001b[0m\n\u001b[0;32m--> 921\u001b[0;31m                 \u001b[0mready\u001b[0m \u001b[0;34m=\u001b[0m \u001b[0mselector\u001b[0m\u001b[0;34m.\u001b[0m\u001b[0mselect\u001b[0m\u001b[0;34m(\u001b[0m\u001b[0mtimeout\u001b[0m\u001b[0;34m)\u001b[0m\u001b[0;34m\u001b[0m\u001b[0;34m\u001b[0m\u001b[0m\n\u001b[0m\u001b[1;32m    922\u001b[0m                 \u001b[0;32mif\u001b[0m \u001b[0mready\u001b[0m\u001b[0;34m:\u001b[0m\u001b[0;34m\u001b[0m\u001b[0;34m\u001b[0m\u001b[0m\n\u001b[1;32m    923\u001b[0m                     \u001b[0;32mreturn\u001b[0m \u001b[0;34m[\u001b[0m\u001b[0mkey\u001b[0m\u001b[0;34m.\u001b[0m\u001b[0mfileobj\u001b[0m \u001b[0;32mfor\u001b[0m \u001b[0;34m(\u001b[0m\u001b[0mkey\u001b[0m\u001b[0;34m,\u001b[0m \u001b[0mevents\u001b[0m\u001b[0;34m)\u001b[0m \u001b[0;32min\u001b[0m \u001b[0mready\u001b[0m\u001b[0;34m]\u001b[0m\u001b[0;34m\u001b[0m\u001b[0;34m\u001b[0m\u001b[0m\n",
            "\u001b[0;32m/opt/conda/lib/python3.7/selectors.py\u001b[0m in \u001b[0;36mselect\u001b[0;34m(self, timeout)\u001b[0m\n\u001b[1;32m    413\u001b[0m         \u001b[0mready\u001b[0m \u001b[0;34m=\u001b[0m \u001b[0;34m[\u001b[0m\u001b[0;34m]\u001b[0m\u001b[0;34m\u001b[0m\u001b[0;34m\u001b[0m\u001b[0m\n\u001b[1;32m    414\u001b[0m         \u001b[0;32mtry\u001b[0m\u001b[0;34m:\u001b[0m\u001b[0;34m\u001b[0m\u001b[0;34m\u001b[0m\u001b[0m\n\u001b[0;32m--> 415\u001b[0;31m             \u001b[0mfd_event_list\u001b[0m \u001b[0;34m=\u001b[0m \u001b[0mself\u001b[0m\u001b[0;34m.\u001b[0m\u001b[0m_selector\u001b[0m\u001b[0;34m.\u001b[0m\u001b[0mpoll\u001b[0m\u001b[0;34m(\u001b[0m\u001b[0mtimeout\u001b[0m\u001b[0;34m)\u001b[0m\u001b[0;34m\u001b[0m\u001b[0;34m\u001b[0m\u001b[0m\n\u001b[0m\u001b[1;32m    416\u001b[0m         \u001b[0;32mexcept\u001b[0m \u001b[0mInterruptedError\u001b[0m\u001b[0;34m:\u001b[0m\u001b[0;34m\u001b[0m\u001b[0;34m\u001b[0m\u001b[0m\n\u001b[1;32m    417\u001b[0m             \u001b[0;32mreturn\u001b[0m \u001b[0mready\u001b[0m\u001b[0;34m\u001b[0m\u001b[0;34m\u001b[0m\u001b[0m\n",
            "\u001b[0;31mKeyboardInterrupt\u001b[0m: "
          ],
          "ename": "KeyboardInterrupt",
          "evalue": "",
          "output_type": "error"
        }
      ]
    },
    {
      "cell_type": "code",
      "source": [
        "!mkdir /kaggle/working/evaluation\n",
        "def evaluateCodaLab(model,testData):\n",
        "    model.eval()\n",
        "    \n",
        "    for k,(x,m,s) in enumerate(testData):\n",
        "        m = m.to(device)\n",
        "        x = x.permute(0,2,1,3).float().to(device)\n",
        "\n",
        "        with torch.no_grad():\n",
        "            pred = model(x)*m\n",
        "        pred = np.array(pred.cpu())\n",
        "        print(s)\n",
        "        for i in range(pred.shape[0]):\n",
        "            np.save('/kaggle/working/evaluation/'+s[i]+'.npy',pred[i])\n",
        "        \n",
        "            "
      ],
      "metadata": {
        "execution": {
          "iopub.status.busy": "2023-03-24T17:13:07.051690Z",
          "iopub.execute_input": "2023-03-24T17:13:07.052088Z",
          "iopub.status.idle": "2023-03-24T17:13:08.354771Z",
          "shell.execute_reply.started": "2023-03-24T17:13:07.052052Z",
          "shell.execute_reply": "2023-03-24T17:13:08.353431Z"
        },
        "trusted": true,
        "id": "9Yb3DBHSCyAl",
        "outputId": "be423969-cddd-4de5-c1f1-1bc99e570d90"
      },
      "execution_count": null,
      "outputs": [
        {
          "name": "stdout",
          "text": "mkdir: cannot create directory ‘/kaggle/working/evaluation’: File exists\n",
          "output_type": "stream"
        }
      ]
    },
    {
      "cell_type": "code",
      "source": [
        "evaluateCodaLab(model,testLoader)"
      ],
      "metadata": {
        "execution": {
          "iopub.status.busy": "2023-03-24T17:13:09.845396Z",
          "iopub.execute_input": "2023-03-24T17:13:09.846585Z",
          "iopub.status.idle": "2023-03-24T17:13:19.566975Z",
          "shell.execute_reply.started": "2023-03-24T17:13:09.846520Z",
          "shell.execute_reply": "2023-03-24T17:13:19.565447Z"
        },
        "trusted": true,
        "id": "-xHzmluQCyAl",
        "outputId": "f44c09ea-bf1a-4322-c448-96b90352ef65"
      },
      "execution_count": null,
      "outputs": [
        {
          "name": "stdout",
          "text": "('sample_9603', 'sample_9852', 'sample_9966', 'sample_9631', 'sample_9975', 'sample_10120', 'sample_9696', 'sample_9472', 'sample_10129', 'sample_9429', 'sample_9000', 'sample_9167', 'sample_9864', 'sample_9051', 'sample_10199', 'sample_9936', 'sample_9453', 'sample_9798', 'sample_9523', 'sample_9835', 'sample_9964', 'sample_9969', 'sample_9379', 'sample_9329', 'sample_9282', 'sample_9571', 'sample_9945', 'sample_9815', 'sample_9685', 'sample_9736', 'sample_10184', 'sample_9691')\n('sample_10140', 'sample_9942', 'sample_9020', 'sample_9656', 'sample_9667', 'sample_9884', 'sample_10177', 'sample_9632', 'sample_9644', 'sample_9730', 'sample_9223', 'sample_9607', 'sample_9510', 'sample_10005', 'sample_9342', 'sample_10128', 'sample_9971', 'sample_10100', 'sample_9266', 'sample_9550', 'sample_9414', 'sample_9700', 'sample_10102', 'sample_9294', 'sample_9989', 'sample_9802', 'sample_9045', 'sample_9525', 'sample_9055', 'sample_9306', 'sample_9466', 'sample_9161')\n('sample_9244', 'sample_9408', 'sample_9217', 'sample_9421', 'sample_9746', 'sample_9544', 'sample_9109', 'sample_9489', 'sample_9178', 'sample_10090', 'sample_10193', 'sample_9314', 'sample_9152', 'sample_9893', 'sample_9901', 'sample_9582', 'sample_9060', 'sample_9997', 'sample_10194', 'sample_9694', 'sample_9978', 'sample_9988', 'sample_9025', 'sample_9324', 'sample_9754', 'sample_9787', 'sample_9059', 'sample_10119', 'sample_9734', 'sample_9652', 'sample_9686', 'sample_10078')\n('sample_9917', 'sample_9740', 'sample_9397', 'sample_9409', 'sample_9325', 'sample_9497', 'sample_9669', 'sample_9464', 'sample_9944', 'sample_9956', 'sample_9087', 'sample_10198', 'sample_10095', 'sample_9629', 'sample_9281', 'sample_9475', 'sample_9340', 'sample_9400', 'sample_9336', 'sample_9844', 'sample_9611', 'sample_9563', 'sample_9374', 'sample_9047', 'sample_10137', 'sample_9907', 'sample_9699', 'sample_9094', 'sample_9446', 'sample_9140', 'sample_9001', 'sample_9091')\n('sample_9393', 'sample_9995', 'sample_10009', 'sample_10094', 'sample_9250', 'sample_9506', 'sample_9389', 'sample_10056', 'sample_9080', 'sample_9950', 'sample_9854', 'sample_10013', 'sample_9057', 'sample_9873', 'sample_9465', 'sample_9372', 'sample_9149', 'sample_9108', 'sample_9811', 'sample_10002', 'sample_9233', 'sample_9928', 'sample_9584', 'sample_10131', 'sample_9083', 'sample_9173', 'sample_9647', 'sample_10101', 'sample_10043', 'sample_9663', 'sample_9895', 'sample_10114')\n('sample_9417', 'sample_10175', 'sample_9258', 'sample_9847', 'sample_9502', 'sample_9982', 'sample_10030', 'sample_9534', 'sample_9903', 'sample_9728', 'sample_9249', 'sample_9701', 'sample_9918', 'sample_10007', 'sample_9786', 'sample_9431', 'sample_9377', 'sample_9518', 'sample_9155', 'sample_9296', 'sample_9003', 'sample_9610', 'sample_9637', 'sample_9070', 'sample_10073', 'sample_9926', 'sample_10065', 'sample_9008', 'sample_9186', 'sample_9602', 'sample_9784', 'sample_9727')\n('sample_9881', 'sample_9664', 'sample_9816', 'sample_9755', 'sample_9951', 'sample_9758', 'sample_9553', 'sample_9200', 'sample_9512', 'sample_9364', 'sample_9458', 'sample_10020', 'sample_9301', 'sample_10148', 'sample_9888', 'sample_9723', 'sample_9722', 'sample_9804', 'sample_9376', 'sample_9269', 'sample_10116', 'sample_9137', 'sample_9215', 'sample_9455', 'sample_9419', 'sample_9499', 'sample_9395', 'sample_9980', 'sample_9078', 'sample_9657', 'sample_10003', 'sample_10099')\n('sample_9478', 'sample_9519', 'sample_9225', 'sample_9191', 'sample_9733', 'sample_9659', 'sample_9560', 'sample_9317', 'sample_9196', 'sample_9263', 'sample_9818', 'sample_9974', 'sample_9635', 'sample_10169', 'sample_9426', 'sample_9151', 'sample_9876', 'sample_10098', 'sample_10150', 'sample_10036', 'sample_9515', 'sample_9645', 'sample_9572', 'sample_9684', 'sample_10022', 'sample_9843', 'sample_10070', 'sample_9143', 'sample_9949', 'sample_9641', 'sample_9384', 'sample_9302')\n('sample_9098', 'sample_10035', 'sample_10190', 'sample_9415', 'sample_9276', 'sample_10113', 'sample_9614', 'sample_10085', 'sample_10181', 'sample_10173', 'sample_9212', 'sample_9970', 'sample_9892', 'sample_9175', 'sample_9307', 'sample_9542', 'sample_9509', 'sample_9537', 'sample_9284', 'sample_9871', 'sample_9683', 'sample_9432', 'sample_9986', 'sample_9358', 'sample_9819', 'sample_9840', 'sample_10187', 'sample_9837', 'sample_9148', 'sample_9806', 'sample_9508', 'sample_9081')\n('sample_9845', 'sample_9333', 'sample_9243', 'sample_9713', 'sample_10042', 'sample_9687', 'sample_10015', 'sample_10075', 'sample_9145', 'sample_9461', 'sample_9300', 'sample_9744', 'sample_10197', 'sample_9107', 'sample_10182', 'sample_9375', 'sample_9041', 'sample_9028', 'sample_9751', 'sample_9290', 'sample_9822', 'sample_9456', 'sample_9952', 'sample_9442', 'sample_9661', 'sample_9524', 'sample_9352', 'sample_9171', 'sample_9800', 'sample_9483', 'sample_10040', 'sample_9452')\n('sample_10186', 'sample_9731', 'sample_9347', 'sample_9226', 'sample_9842', 'sample_9763', 'sample_9775', 'sample_9642', 'sample_9193', 'sample_9626', 'sample_9029', 'sample_9345', 'sample_10033', 'sample_9443', 'sample_9623', 'sample_9268', 'sample_9914', 'sample_9792', 'sample_9348', 'sample_9527', 'sample_9809', 'sample_9938', 'sample_9153', 'sample_9251', 'sample_9690', 'sample_9405', 'sample_9643', 'sample_9230', 'sample_9594', 'sample_9054', 'sample_9598', 'sample_10124')\n('sample_9526', 'sample_9651', 'sample_9034', 'sample_9865', 'sample_10147', 'sample_9769', 'sample_9224', 'sample_9283', 'sample_9579', 'sample_9450', 'sample_10165', 'sample_9887', 'sample_9030', 'sample_10061', 'sample_9680', 'sample_9130', 'sample_10055', 'sample_9716', 'sample_9773', 'sample_9113', 'sample_10082', 'sample_9118', 'sample_9069', 'sample_9688', 'sample_10134', 'sample_10045', 'sample_9311', 'sample_9705', 'sample_10064', 'sample_9821', 'sample_10196', 'sample_9201')\n('sample_9788', 'sample_9150', 'sample_9049', 'sample_9708', 'sample_10151', 'sample_9561', 'sample_10008', 'sample_9578', 'sample_9423', 'sample_9760', 'sample_9604', 'sample_9227', 'sample_9114', 'sample_10069', 'sample_9017', 'sample_9006', 'sample_10189', 'sample_9794', 'sample_9320', 'sample_9485', 'sample_9655', 'sample_10188', 'sample_9177', 'sample_9323', 'sample_9676', 'sample_9255', 'sample_9289', 'sample_9310', 'sample_9513', 'sample_9022', 'sample_9660', 'sample_9987')\n('sample_10059', 'sample_9808', 'sample_10118', 'sample_10072', 'sample_9662', 'sample_9682', 'sample_9351', 'sample_9564', 'sample_9529', 'sample_9920', 'sample_9203', 'sample_9278', 'sample_9991', 'sample_9992', 'sample_9543', 'sample_9597', 'sample_9555', 'sample_10138', 'sample_9972', 'sample_10041', 'sample_9522', 'sample_10183', 'sample_9591', 'sample_9264', 'sample_9814', 'sample_9943', 'sample_9206', 'sample_9082', 'sample_10133', 'sample_9116', 'sample_10077', 'sample_9860')\n('sample_9828', 'sample_9568', 'sample_9086', 'sample_9721', 'sample_9640', 'sample_9947', 'sample_9973', 'sample_9256', 'sample_9370', 'sample_9064', 'sample_9280', 'sample_9493', 'sample_9779', 'sample_9958', 'sample_9762', 'sample_9704', 'sample_9163', 'sample_9183', 'sample_9898', 'sample_10091', 'sample_9575', 'sample_9830', 'sample_9707', 'sample_10115', 'sample_9222', 'sample_9430', 'sample_9856', 'sample_10125', 'sample_9780', 'sample_9528', 'sample_9162', 'sample_9719')\n('sample_9910', 'sample_9357', 'sample_9350', 'sample_9549', 'sample_10141', 'sample_9252', 'sample_9484', 'sample_9211', 'sample_9449', 'sample_9117', 'sample_9923', 'sample_10159', 'sample_10136', 'sample_9589', 'sample_9053', 'sample_10166', 'sample_9541', 'sample_9833', 'sample_9009', 'sample_9207', 'sample_9209', 'sample_9491', 'sample_9413', 'sample_9498', 'sample_9259', 'sample_9759', 'sample_9335', 'sample_9346', 'sample_9793', 'sample_9012', 'sample_9536', 'sample_9425')\n('sample_9996', 'sample_9241', 'sample_9120', 'sample_9165', 'sample_10117', 'sample_9689', 'sample_9834', 'sample_9586', 'sample_9147', 'sample_9126', 'sample_9362', 'sample_10027', 'sample_9863', 'sample_9246', 'sample_9066', 'sample_9748', 'sample_10026', 'sample_9877', 'sample_10083', 'sample_9309', 'sample_9609', 'sample_9221', 'sample_9411', 'sample_9998', 'sample_9199', 'sample_9099', 'sample_10066', 'sample_9743', 'sample_10060', 'sample_9937', 'sample_9386', 'sample_9398')\n('sample_9260', 'sample_9305', 'sample_9824', 'sample_9123', 'sample_9093', 'sample_9360', 'sample_9770', 'sample_9960', 'sample_9125', 'sample_10156', 'sample_9797', 'sample_9101', 'sample_9095', 'sample_9569', 'sample_9993', 'sample_9588', 'sample_10039', 'sample_10157', 'sample_9761', 'sample_9180', 'sample_9369', 'sample_9192', 'sample_9321', 'sample_9308', 'sample_9967', 'sample_10185', 'sample_10105', 'sample_9503', 'sample_10168', 'sample_10132', 'sample_10164', 'sample_9040')\n('sample_10171', 'sample_9874', 'sample_9693', 'sample_9232', 'sample_9825', 'sample_9136', 'sample_10047', 'sample_9671', 'sample_9839', 'sample_10063', 'sample_10050', 'sample_9331', 'sample_9122', 'sample_10079', 'sample_10191', 'sample_9820', 'sample_10149', 'sample_9532', 'sample_9866', 'sample_9182', 'sample_9695', 'sample_9172', 'sample_9885', 'sample_9726', 'sample_10012', 'sample_9158', 'sample_9412', 'sample_10161', 'sample_9039', 'sample_9235', 'sample_9767', 'sample_9654')\n('sample_9156', 'sample_9587', 'sample_9187', 'sample_9399', 'sample_10081', 'sample_9382', 'sample_10087', 'sample_9668', 'sample_10011', 'sample_9618', 'sample_9367', 'sample_9096', 'sample_9273', 'sample_10093', 'sample_9023', 'sample_9670', 'sample_9857', 'sample_9179', 'sample_10044', 'sample_10103', 'sample_9261', 'sample_9052', 'sample_10097', 'sample_9319', 'sample_10178', 'sample_9940', 'sample_9366', 'sample_9387', 'sample_10146', 'sample_9851', 'sample_9299', 'sample_10025')\n('sample_9293', 'sample_9065', 'sample_9253', 'sample_9546', 'sample_9771', 'sample_9620', 'sample_9385', 'sample_9782', 'sample_9380', 'sample_9033', 'sample_9829', 'sample_9189', 'sample_9459', 'sample_10192', 'sample_9908', 'sample_9205', 'sample_10127', 'sample_9919', 'sample_9129', 'sample_9168', 'sample_9698', 'sample_9337', 'sample_9104', 'sample_9616', 'sample_10086', 'sample_9706', 'sample_9585', 'sample_9495', 'sample_9812', 'sample_10089', 'sample_9999', 'sample_9697')\n('sample_9184', 'sample_9984', 'sample_9128', 'sample_9392', 'sample_9444', 'sample_9621', 'sample_9142', 'sample_9074', 'sample_9316', 'sample_9675', 'sample_9402', 'sample_10051', 'sample_9270', 'sample_9088', 'sample_10048', 'sample_9462', 'sample_9234', 'sample_9327', 'sample_9853', 'sample_9295', 'sample_10067', 'sample_9810', 'sample_9334', 'sample_9636', 'sample_9752', 'sample_9904', 'sample_9596', 'sample_9796', 'sample_9703', 'sample_9889', 'sample_9014', 'sample_9583')\n('sample_9831', 'sample_9757', 'sample_9287', 'sample_9422', 'sample_9552', 'sample_10023', 'sample_9454', 'sample_9677', 'sample_9882', 'sample_9090', 'sample_9570', 'sample_9238', 'sample_9354', 'sample_9718', 'sample_9772', 'sample_10122', 'sample_9487', 'sample_10109', 'sample_9286', 'sample_10032', 'sample_10001', 'sample_9516', 'sample_9132', 'sample_9785', 'sample_9867', 'sample_10160', 'sample_9470', 'sample_10034', 'sample_9709', 'sample_10110', 'sample_9356', 'sample_9024')\n('sample_9756', 'sample_9471', 'sample_9494', 'sample_9169', 'sample_10144', 'sample_9361', 'sample_9559', 'sample_9291', 'sample_9396', 'sample_9407', 'sample_10088', 'sample_9747', 'sample_9388', 'sample_9924', 'sample_10108', 'sample_9220', 'sample_9612', 'sample_9292', 'sample_9745', 'sample_9896', 'sample_9653', 'sample_9476', 'sample_9216', 'sample_9927', 'sample_9005', 'sample_9880', 'sample_9496', 'sample_9932', 'sample_9850', 'sample_9900', 'sample_9899', 'sample_9427')\n('sample_9121', 'sample_9714', 'sample_9749', 'sample_9297', 'sample_9777', 'sample_9627', 'sample_9624', 'sample_9100', 'sample_10126', 'sample_9110', 'sample_9750', 'sample_9441', 'sample_9127', 'sample_9521', 'sample_9557', 'sample_9567', 'sample_9891', 'sample_9954', 'sample_9540', 'sample_9275', 'sample_9580', 'sample_9558', 'sample_9440', 'sample_10080', 'sample_9089', 'sample_9505', 'sample_10167', 'sample_9154', 'sample_9067', 'sample_9332', 'sample_9267', 'sample_9886')\n('sample_9859', 'sample_9836', 'sample_9174', 'sample_9315', 'sample_9406', 'sample_9353', 'sample_10028', 'sample_9658', 'sample_9160', 'sample_10106', 'sample_9188', 'sample_9031', 'sample_10049', 'sample_9391', 'sample_10135', 'sample_9848', 'sample_9115', 'sample_9339', 'sample_9135', 'sample_9032', 'sample_9381', 'sample_9265', 'sample_9474', 'sample_9741', 'sample_9079', 'sample_9870', 'sample_9198', 'sample_9058', 'sample_9304', 'sample_9879', 'sample_9875', 'sample_9729')\n('sample_9855', 'sample_9254', 'sample_9439', 'sample_9590', 'sample_9576', 'sample_9935', 'sample_9511', 'sample_9355', 'sample_9605', 'sample_9622', 'sample_9702', 'sample_9638', 'sample_9994', 'sample_9977', 'sample_9124', 'sample_9962', 'sample_9368', 'sample_9547', 'sample_9595', 'sample_9011', 'sample_10104', 'sample_9715', 'sample_9878', 'sample_9538', 'sample_9883', 'sample_9535', 'sample_9724', 'sample_9026', 'sample_9210', 'sample_10176', 'sample_9460', 'sample_9019')\n('sample_9435', 'sample_9504', 'sample_10024', 'sample_9648', 'sample_9933', 'sample_9214', 'sample_9678', 'sample_9197', 'sample_9257', 'sample_9931', 'sample_9739', 'sample_9035', 'sample_9457', 'sample_9164', 'sample_9194', 'sample_9477', 'sample_9679', 'sample_9646', 'sample_9634', 'sample_9957', 'sample_9846', 'sample_9735', 'sample_9501', 'sample_9930', 'sample_9968', 'sample_9166', 'sample_9036', 'sample_9530', 'sample_9037', 'sample_9545', 'sample_9861', 'sample_9639')\n('sample_9463', 'sample_9239', 'sample_9765', 'sample_9202', 'sample_9841', 'sample_10021', 'sample_10053', 'sample_9073', 'sample_9240', 'sample_9328', 'sample_9965', 'sample_10130', 'sample_9862', 'sample_9062', 'sample_9242', 'sample_9061', 'sample_9925', 'sample_9063', 'sample_9204', 'sample_10152', 'sample_9190', 'sample_9823', 'sample_9939', 'sample_9338', 'sample_9490', 'sample_10038', 'sample_9894', 'sample_10123', 'sample_9520', 'sample_9566', 'sample_9071', 'sample_9068')\n('sample_9451', 'sample_9955', 'sample_9551', 'sample_9890', 'sample_9600', 'sample_9720', 'sample_9285', 'sample_9692', 'sample_9447', 'sample_9625', 'sample_9774', 'sample_10155', 'sample_9778', 'sample_9517', 'sample_9913', 'sample_9665', 'sample_9181', 'sample_9102', 'sample_10004', 'sample_9628', 'sample_9817', 'sample_9790', 'sample_9312', 'sample_10031', 'sample_10017', 'sample_9111', 'sample_9084', 'sample_9674', 'sample_9144', 'sample_9789', 'sample_9554', 'sample_9961')\n('sample_9092', 'sample_9768', 'sample_9330', 'sample_9018', 'sample_9341', 'sample_9394', 'sample_9979', 'sample_9959', 'sample_9420', 'sample_9581', 'sample_9044', 'sample_9467', 'sample_9488', 'sample_9344', 'sample_10084', 'sample_9946', 'sample_9565', 'sample_9247', 'sample_9922', 'sample_9738', 'sample_9015', 'sample_9021', 'sample_9838', 'sample_9138', 'sample_9469', 'sample_9929', 'sample_9105', 'sample_10029', 'sample_9630', 'sample_9208', 'sample_9133', 'sample_9791')\n('sample_9159', 'sample_9473', 'sample_9781', 'sample_9712', 'sample_9737', 'sample_9909', 'sample_9076', 'sample_9633', 'sample_9437', 'sample_9531', 'sample_9371', 'sample_9710', 'sample_10057', 'sample_9004', 'sample_10145', 'sample_9742', 'sample_9112', 'sample_9146', 'sample_9673', 'sample_10016', 'sample_9650', 'sample_9556', 'sample_10162', 'sample_9615', 'sample_10000', 'sample_9085', 'sample_10074', 'sample_9448', 'sample_10153', 'sample_9373', 'sample_10180', 'sample_9050')\n('sample_9134', 'sample_10076', 'sample_9401', 'sample_9562', 'sample_9245', 'sample_9436', 'sample_9119', 'sample_9799', 'sample_10158', 'sample_10195', 'sample_9858', 'sample_9231', 'sample_9803', 'sample_9262', 'sample_9313', 'sample_9072', 'sample_10018', 'sample_9141', 'sample_9007', 'sample_9322', 'sample_9013', 'sample_9010', 'sample_9902', 'sample_9795', 'sample_9869', 'sample_9248', 'sample_10046', 'sample_9365', 'sample_9288', 'sample_9298', 'sample_9219', 'sample_9574')\n('sample_9764', 'sample_9649', 'sample_9139', 'sample_9783', 'sample_9813', 'sample_9905', 'sample_9976', 'sample_10154', 'sample_9766', 'sample_10172', 'sample_9445', 'sample_10037', 'sample_9318', 'sample_9681', 'sample_9131', 'sample_9016', 'sample_9213', 'sample_9953', 'sample_10071', 'sample_9507', 'sample_9941', 'sample_9277', 'sample_9185', 'sample_9229', 'sample_9912', 'sample_9279', 'sample_9826', 'sample_10143', 'sample_9043', 'sample_9236', 'sample_9103', 'sample_10014')\n('sample_9363', 'sample_10121', 'sample_9599', 'sample_9732', 'sample_9983', 'sample_9573', 'sample_9056', 'sample_9479', 'sample_9349', 'sample_9985', 'sample_10163', 'sample_9533', 'sample_10092', 'sample_9237', 'sample_10062', 'sample_9418', 'sample_9981', 'sample_9002', 'sample_9601', 'sample_10058', 'sample_9832', 'sample_9157', 'sample_9577', 'sample_9827', 'sample_9428', 'sample_10068', 'sample_9434', 'sample_10139', 'sample_10107', 'sample_9801', 'sample_9672', 'sample_9075')\n('sample_9468', 'sample_9176', 'sample_9106', 'sample_10112', 'sample_9897', 'sample_9514', 'sample_9410', 'sample_9776', 'sample_9416', 'sample_9326', 'sample_9548', 'sample_9482', 'sample_9383', 'sample_9274', 'sample_9195', 'sample_10052', 'sample_9592', 'sample_9849', 'sample_9608', 'sample_10170', 'sample_10142', 'sample_10054', 'sample_9480', 'sample_9921', 'sample_9303', 'sample_9805', 'sample_9359', 'sample_9911', 'sample_10174', 'sample_9807', 'sample_9424', 'sample_9915')\n('sample_10019', 'sample_9725', 'sample_10010', 'sample_9711', 'sample_9097', 'sample_9606', 'sample_10111', 'sample_10096', 'sample_9481', 'sample_9963', 'sample_9486', 'sample_9934', 'sample_9271', 'sample_9170', 'sample_9539', 'sample_9492', 'sample_9403', 'sample_9042', 'sample_10179', 'sample_9343', 'sample_9228', 'sample_9753', 'sample_9500', 'sample_9868', 'sample_9916', 'sample_9593', 'sample_9218', 'sample_10006', 'sample_9378', 'sample_9613', 'sample_9390', 'sample_9717')\n('sample_9433', 'sample_9046', 'sample_9038', 'sample_9077', 'sample_9438', 'sample_9990', 'sample_9404', 'sample_9617', 'sample_9666', 'sample_9272', 'sample_9948', 'sample_9906', 'sample_9027', 'sample_9048', 'sample_9619', 'sample_9872')\n",
          "output_type": "stream"
        }
      ]
    },
    {
      "cell_type": "code",
      "source": [
        "import shutil\n",
        "shutil.make_archive('submission', 'zip', '/kaggle/working/evaluation')"
      ],
      "metadata": {
        "execution": {
          "iopub.status.busy": "2023-03-24T17:16:08.693370Z",
          "iopub.execute_input": "2023-03-24T17:16:08.693774Z",
          "iopub.status.idle": "2023-03-24T17:16:11.617718Z",
          "shell.execute_reply.started": "2023-03-24T17:16:08.693736Z",
          "shell.execute_reply": "2023-03-24T17:16:11.616513Z"
        },
        "trusted": true,
        "id": "8z7otNW2CyAm",
        "outputId": "6bc33429-2ade-4e80-f86c-57bfff4cf046"
      },
      "execution_count": null,
      "outputs": [
        {
          "execution_count": 80,
          "output_type": "execute_result",
          "data": {
            "text/plain": "'/kaggle/working/submission.zip'"
          },
          "metadata": {}
        }
      ]
    }
  ]
}